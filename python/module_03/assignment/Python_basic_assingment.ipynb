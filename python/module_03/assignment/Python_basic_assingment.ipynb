{
 "cells": [
  {
   "cell_type": "markdown",
   "id": "0b068c52",
   "metadata": {},
   "source": [
    "## Theory questions\n",
    "1. What is Python, and why is it popular?  \n",
    "    - Python is a high-level, interpreted programming language known for its simplicity, readability, and versatility. \n",
    "    Great for beginners due to its readable syntax. Web development (e.g., Django, Flask) Data science and machine learning   (e.g., Pandas, NumPy, scikit-learn, TensorFlow) Automation and scripting Game development, desktop apps, and even IoT\n",
    "2. What is an interpreter in Python? \n",
    "    - Because it does not require compilation into machine code before execution. Instead, the interpreter translates code on the fly, line by line, during runtime.\n",
    "3. What are pre-defined keywords in Python ?\n",
    "    - Pre-defined keywords in Python are reserved words that have special meaning in the language. You cannot use them as variable names, function names, or identifiers, because they are part of Python’s syntax. \n",
    "4. Can keywords be used as variable names ?\n",
    "    - No\n",
    "\n",
    "5. What is mutability in Python ?\n",
    "    - Mutability in Python refers to whether or not an object’s value can be changed after it is created.\n",
    "    \n",
    "6. Why are lists mutable, but tuples are immutable ?\n",
    "    - Lists are used when you need a dynamic collection that can grow, shrink, or change. You can add, remove, or modify elements\n",
    "    - Tuples are used when you want to ensure the data doesn't change. This is important for things like coordinates, database keys, or function parameters that shouldn't be modified.\n",
    "\n",
    "\n",
    "7. What is the difference between “==” and “is” operators in Python \n",
    "    - == -> Checks if two variables have the same value.\n",
    "    - is -> Checks if two variables refer to the exact same object in memory.\n",
    "    \n",
    "8. What are logical operators in Python ?\n",
    "    - Logical operators in Python are used to combine conditional (Boolean) expressions. They return True or False based on the logic of the conditions. There 3 main logical operator i.e and , or, not\n",
    "    \n",
    "9. What is type casting in Python ?\n",
    "    - Type casting in Python is the process of converting one data type to another. There are two types of type casting:\n",
    "\n",
    "\n",
    "10. What is the difference between implicit and explicit type casting \n",
    "    - Implicit Type Casting (Automatic Casting):\n",
    "        Implicit casting is done automatically by Python when you assign a value of one type to a variable of another type\n",
    "\n",
    "    - Explicit Type Casting (Manual Casting):\n",
    "        Explicit casting is when you manually convert a variable from one data type to another using Python's built-in functions.\n",
    "\n",
    "11. What is the purpose of conditional statements in Python ?\n",
    "    - Conditional statements in Python are used to make decisions in your program. They allow your program to execute different code based on whether a certain condition is true or false\n",
    "12. How does the elif statement work ?\n",
    "    - The elif (short for \"else if\") statement in Python allows you to check multiple conditions sequentially, and execute the corresponding block of code for the first condition that is True. It is used when you have more than two conditions to check, and you want to check them in a specific order. If the first condition fails, Python will check the next one in line, and so on, until it finds one that is True.\n",
    "13. What is the difference between for and while loops? \n",
    "    - Both for and while loops are used to repeatedly execute a block of code in Python. However, they have different use cases and behavior:\n",
    "    - A for loop is used when you know in advance how many times you want to iterate over a sequence (like a list, string, tuple, or range) or an iterable object.\n",
    "    - A while loop is used when you want to repeat a block of code as long as a certain condition is true.\n",
    "    The loop will continue to execute until the condition becomes false.\n",
    "14. Describe a scenario where a while loop is more suitable than a for loop. \n",
    "    - Scenario: User Login Attempt\n",
    "        The user has multiple attempts to enter the  correct password, but the program doesn't know how many attempts the user will need.In this case, a while loop is more suitable than a for loop because: The number of attempts the user will make is unknown. The loop should continue as long as the password is incorrect. The loop needs to terminate as soon as the correct password is entered or after a set number of attempts.\n",
    "\n"
   ]
  },
  {
   "cell_type": "markdown",
   "id": "31b68f86",
   "metadata": {},
   "source": [
    "# Practical Questions "
   ]
  },
  {
   "cell_type": "code",
   "execution_count": 18,
   "id": "0cba57fb",
   "metadata": {},
   "outputs": [
    {
     "name": "stdout",
     "output_type": "stream",
     "text": [
      "Hello, World\n"
     ]
    }
   ],
   "source": [
    "# Write a Python program to print \"Hello, World! \n",
    "print(\"Hello, World\")"
   ]
  },
  {
   "cell_type": "code",
   "execution_count": 2,
   "id": "40fbfe4d",
   "metadata": {},
   "outputs": [
    {
     "name": "stdout",
     "output_type": "stream",
     "text": [
      "Name:Manju \n",
      " Age:35 \n"
     ]
    }
   ],
   "source": [
    "# Write a Python program that displays your name and age \n",
    "Name = \"Manju\"\n",
    "Age = \"35\"\n",
    "print(f\"Name:{Name} \\n Age:{Age} \")"
   ]
  },
  {
   "cell_type": "code",
   "execution_count": 3,
   "id": "1804172a",
   "metadata": {},
   "outputs": [
    {
     "name": "stdout",
     "output_type": "stream",
     "text": [
      "Python Keywords:\n",
      "False\n",
      "None\n",
      "True\n",
      "and\n",
      "as\n",
      "assert\n",
      "async\n",
      "await\n",
      "break\n",
      "class\n",
      "continue\n",
      "def\n",
      "del\n",
      "elif\n",
      "else\n",
      "except\n",
      "finally\n",
      "for\n",
      "from\n",
      "global\n",
      "if\n",
      "import\n",
      "in\n",
      "is\n",
      "lambda\n",
      "nonlocal\n",
      "not\n",
      "or\n",
      "pass\n",
      "raise\n",
      "return\n",
      "try\n",
      "while\n",
      "with\n",
      "yield\n"
     ]
    }
   ],
   "source": [
    "# Write code to print all the pre-defined keywords in Python using the keyword library \n",
    "import keyword\n",
    "\n",
    "# Get the list of all Python keywords\n",
    "keywords_list = keyword.kwlist\n",
    "\n",
    "# Print the keywords\n",
    "print(\"Python Keywords:\")\n",
    "for kw in keywords_list:\n",
    "    print(kw)"
   ]
  },
  {
   "cell_type": "code",
   "execution_count": 4,
   "id": "9d46ef3b",
   "metadata": {},
   "outputs": [
    {
     "name": "stdout",
     "output_type": "stream",
     "text": [
      "Enter a word to check: try\n",
      "'try' is a Python keyword.\n"
     ]
    }
   ],
   "source": [
    "# Write a program that checks if a given word is a Python keyword. \n",
    "import keyword\n",
    "\n",
    "# Ask the user to enter a word\n",
    "word = input(\"Enter a word to check: \")\n",
    "\n",
    "# Check if the word is a Python keyword\n",
    "if keyword.iskeyword(word):\n",
    "    print(f\"'{word}' is a Python keyword.\")\n",
    "else:\n",
    "    print(f\"'{word}' is NOT a Python keyword.\")"
   ]
  },
  {
   "cell_type": "code",
   "execution_count": 5,
   "id": "536add27",
   "metadata": {},
   "outputs": [
    {
     "name": "stdout",
     "output_type": "stream",
     "text": [
      "attempting changes: [10, 99, 30]\n"
     ]
    },
    {
     "ename": "TypeError",
     "evalue": "'tuple' object does not support item assignment",
     "output_type": "error",
     "traceback": [
      "\u001b[1;31m---------------------------------------------------------------------------\u001b[0m",
      "\u001b[1;31mTypeError\u001b[0m                                 Traceback (most recent call last)",
      "\u001b[1;32m<ipython-input-5-e6e4553893c3>\u001b[0m in \u001b[0;36m<module>\u001b[1;34m\u001b[0m\n\u001b[0;32m      4\u001b[0m \u001b[0mmy_list\u001b[0m\u001b[1;33m[\u001b[0m\u001b[1;36m1\u001b[0m\u001b[1;33m]\u001b[0m \u001b[1;33m=\u001b[0m \u001b[1;36m99\u001b[0m\u001b[1;33m\u001b[0m\u001b[1;33m\u001b[0m\u001b[0m\n\u001b[0;32m      5\u001b[0m \u001b[0mprint\u001b[0m\u001b[1;33m(\u001b[0m\u001b[1;34m\"attempting changes:\"\u001b[0m\u001b[1;33m,\u001b[0m \u001b[0mmy_list\u001b[0m\u001b[1;33m)\u001b[0m\u001b[1;33m\u001b[0m\u001b[1;33m\u001b[0m\u001b[0m\n\u001b[1;32m----> 6\u001b[1;33m \u001b[0mmy_tuple\u001b[0m\u001b[1;33m[\u001b[0m\u001b[1;36m1\u001b[0m\u001b[1;33m]\u001b[0m \u001b[1;33m=\u001b[0m \u001b[1;36m99\u001b[0m\u001b[1;33m\u001b[0m\u001b[1;33m\u001b[0m\u001b[0m\n\u001b[0m",
      "\u001b[1;31mTypeError\u001b[0m: 'tuple' object does not support item assignment"
     ]
    }
   ],
   "source": [
    "# Create a list and tuple in Python, and demonstrate how attempting to change an element works differently for each.\n",
    "my_list = [10, 20, 30]\n",
    "my_tuple = (10, 20, 30)\n",
    "my_list[1] = 99\n",
    "print(\"attempting changes:\", my_list)\n",
    "my_tuple[1] = 99\n"
   ]
  },
  {
   "cell_type": "code",
   "execution_count": 6,
   "id": "026721ea",
   "metadata": {},
   "outputs": [
    {
     "name": "stdout",
     "output_type": "stream",
     "text": [
      "Inside function (list): [1, 2, 3, 100]\n",
      "Inside function (integer): 15\n",
      "Outside function (list): [1, 2, 3, 100]\n",
      "Outside function (integer): 5\n"
     ]
    }
   ],
   "source": [
    "# Write a function to demonstrate the behavior of mutable and immutable arguments.\n",
    "def modify_list(lst):\n",
    "    lst.append(100)\n",
    "    print(\"Inside function (list):\", lst)\n",
    "def modify_integer(num):\n",
    "    num += 10\n",
    "    print(\"Inside function (integer):\", num)\n",
    "my_list = [1, 2, 3]\n",
    "my_num = 5\n",
    "\n",
    "# Call functions\n",
    "modify_list(my_list)\n",
    "modify_integer(my_num)\n",
    "\n",
    "# Print after function calls\n",
    "print(\"Outside function (list):\", my_list)\n",
    "print(\"Outside function (integer):\", my_num)\n"
   ]
  },
  {
   "cell_type": "code",
   "execution_count": 7,
   "id": "64ef7904",
   "metadata": {},
   "outputs": [
    {
     "name": "stdout",
     "output_type": "stream",
     "text": [
      "Enter the first number: 10\n",
      "Enter the second number: 20\n",
      "\n",
      "Results:\n",
      "10.0 + 20.0 = 30.0\n",
      "10.0 - 20.0 = -10.0\n",
      "10.0 * 20.0 = 200.0\n",
      "10.0 / 20.0 = 0.5\n"
     ]
    }
   ],
   "source": [
    "# Write a program that performs basic arithmetic operations on two user-input numbers.\n",
    "# Get input from the user\n",
    "num1 = float(input(\"Enter the first number: \"))\n",
    "num2 = float(input(\"Enter the second number: \"))\n",
    "\n",
    "# Perform arithmetic operations\n",
    "addition = num1 + num2\n",
    "subtraction = num1 - num2\n",
    "multiplication = num1 * num2\n",
    "\n",
    "# Check for division by zero\n",
    "if num2 != 0:\n",
    "    division = num1 / num2\n",
    "else:\n",
    "    division = \"Undefined (cannot divide by zero)\"\n",
    "\n",
    "# Display the results\n",
    "print(\"\\nResults:\")\n",
    "print(f\"{num1} + {num2} = {addition}\")\n",
    "print(f\"{num1} - {num2} = {subtraction}\")\n",
    "print(f\"{num1} * {num2} = {multiplication}\")\n",
    "print(f\"{num1} / {num2} = {division}\")\n"
   ]
  },
  {
   "cell_type": "code",
   "execution_count": 8,
   "id": "f8b61839",
   "metadata": {},
   "outputs": [
    {
     "name": "stdout",
     "output_type": "stream",
     "text": [
      "a and b = False\n",
      "a or b = True\n",
      "not a = False\n"
     ]
    }
   ],
   "source": [
    "# Write a program to demonstrate the use of logical operators. \n",
    "# Define two conditions\n",
    "a = True\n",
    "b = False\n",
    "\n",
    "# Using 'and' operator\n",
    "print(\"a and b =\", a and b)  # Only True if both are True\n",
    "\n",
    "# Using 'or' operator\n",
    "print(\"a or b =\", a or b)    # True if at least one is True\n",
    "\n",
    "# Using 'not' operator\n",
    "print(\"not a =\", not a)\n"
   ]
  },
  {
   "cell_type": "code",
   "execution_count": 9,
   "id": "05295e70",
   "metadata": {},
   "outputs": [
    {
     "name": "stdout",
     "output_type": "stream",
     "text": [
      "Enter a value: 10\n",
      "Integer: 10\n",
      "Float: 10.0\n",
      "Boolean: True\n"
     ]
    }
   ],
   "source": [
    "# Write a Python program to convert user input from string to integer, float, and boolean types. \n",
    "# Get user input as a string\n",
    "user_input = input(\"Enter a value: \")\n",
    "\n",
    "# Convert to integer\n",
    "try:\n",
    "    int_value = int(user_input)\n",
    "    print(\"Integer:\", int_value)\n",
    "except ValueError:\n",
    "    print(\"Cannot convert to integer.\")\n",
    "\n",
    "# Convert to float\n",
    "try:\n",
    "    float_value = float(user_input)\n",
    "    print(\"Float:\", float_value)\n",
    "except ValueError:\n",
    "    print(\"Cannot convert to float.\")\n",
    "\n",
    "# Convert to boolean\n",
    "bool_value = bool(user_input)\n",
    "print(\"Boolean:\", bool_value)\n"
   ]
  },
  {
   "cell_type": "code",
   "execution_count": 10,
   "id": "ce545261",
   "metadata": {},
   "outputs": [
    {
     "name": "stdout",
     "output_type": "stream",
     "text": [
      "Integer list: [10, 20, 30, 0, None, 45]\n",
      "Float list: [10.0, 20.0, 30.0, 0.0, None, 45.0]\n",
      "Boolean list: [True, True, True, True, False, True]\n"
     ]
    }
   ],
   "source": [
    "# Write code to demonstrate type casting with list elements.\n",
    "# Original list with string elements\n",
    "str_list = ['10', '20', '30', '0', '', '45']\n",
    "\n",
    "# Convert to integers\n",
    "int_list = []\n",
    "for item in str_list:\n",
    "    try:\n",
    "        int_list.append(int(item))\n",
    "    except ValueError:\n",
    "        int_list.append(None)  # Use None for items that can't be converted\n",
    "\n",
    "print(\"Integer list:\", int_list)\n",
    "\n",
    "# Convert to floats\n",
    "float_list = []\n",
    "for item in str_list:\n",
    "    try:\n",
    "        float_list.append(float(item))\n",
    "    except ValueError:\n",
    "        float_list.append(None)\n",
    "\n",
    "print(\"Float list:\", float_list)\n",
    "\n",
    "# Convert to booleans\n",
    "bool_list = [bool(item) for item in str_list]\n",
    "print(\"Boolean list:\", bool_list)\n"
   ]
  },
  {
   "cell_type": "code",
   "execution_count": 11,
   "id": "7bbf0195",
   "metadata": {},
   "outputs": [
    {
     "name": "stdout",
     "output_type": "stream",
     "text": [
      "Enter a number: 10\n",
      "The number is positive.\n"
     ]
    }
   ],
   "source": [
    "# Write a program that checks if a number is positive, negative, or zero.\n",
    "# Get input from the user\n",
    "num = float(input(\"Enter a number: \"))\n",
    "\n",
    "# Check the number\n",
    "if num > 0:\n",
    "    print(\"The number is positive.\")\n",
    "elif num < 0:\n",
    "    print(\"The number is negative.\")\n",
    "else:\n",
    "    print(\"The number is zero.\")\n"
   ]
  },
  {
   "cell_type": "code",
   "execution_count": 13,
   "id": "3420add6",
   "metadata": {},
   "outputs": [
    {
     "name": "stdout",
     "output_type": "stream",
     "text": [
      "1 2 3 4 5 6 7 8 9 10 "
     ]
    }
   ],
   "source": [
    "# Write a for loop to print numbers from 1 to 10. \n",
    "# Using a for loop to print numbers from 1 to 10\n",
    "for num in range(1, 11):\n",
    "    print(num, end = \" \")\n"
   ]
  },
  {
   "cell_type": "code",
   "execution_count": 15,
   "id": "6a94a53e",
   "metadata": {},
   "outputs": [
    {
     "name": "stdout",
     "output_type": "stream",
     "text": [
      "The sum of all even numbers between 1 and 50 is: 650\n"
     ]
    }
   ],
   "source": [
    "# Write a Python program to find the sum of all even numbers between 1 and 50.\n",
    "even_sum = 0\n",
    "for num in range(2, 51, 2): \n",
    "    even_sum += num\n",
    "\n",
    "print(\"The sum of all even numbers between 1 and 50 is:\", even_sum)\n"
   ]
  },
  {
   "cell_type": "code",
   "execution_count": 16,
   "id": "8c707c7a",
   "metadata": {},
   "outputs": [
    {
     "name": "stdout",
     "output_type": "stream",
     "text": [
      "Enter a string: Manju\n",
      "Reversed string: ujnaM\n"
     ]
    }
   ],
   "source": [
    "# Write a program to reverse a string using a while loop. \n",
    "\n",
    "user_input = input(\"Enter a string: \")\n",
    "reversed_string = \"\"\n",
    "index = len(user_input) - 1\n",
    "while index >= 0:\n",
    "    reversed_string += user_input[index]\n",
    "    index -= 1\n",
    "\n",
    "print(\"Reversed string:\", reversed_string)\n"
   ]
  },
  {
   "cell_type": "code",
   "execution_count": 17,
   "id": "51e82f46",
   "metadata": {},
   "outputs": [
    {
     "name": "stdout",
     "output_type": "stream",
     "text": [
      "Enter a number to find its factorial: 5\n",
      "Factorial is: 120\n"
     ]
    }
   ],
   "source": [
    "# Write a Python program to calculate the factorial of a number provided by the user using a while loop.\n",
    "\n",
    "num = int(input(\"Enter a number to find its factorial: \"))\n",
    "factorial = 1\n",
    "if num < 0:\n",
    "    print(\"Factorial does not exist for negative numbers.\")\n",
    "else:\n",
    "    while num > 0:\n",
    "        factorial *= num\n",
    "        num -= 1\n",
    "\n",
    "print(\"Factorial is:\", factorial)\n"
   ]
  }
 ],
 "metadata": {
  "kernelspec": {
   "display_name": "Python 3",
   "language": "python",
   "name": "python3"
  },
  "language_info": {
   "codemirror_mode": {
    "name": "ipython",
    "version": 3
   },
   "file_extension": ".py",
   "mimetype": "text/x-python",
   "name": "python",
   "nbconvert_exporter": "python",
   "pygments_lexer": "ipython3",
   "version": "3.8.8"
  }
 },
 "nbformat": 4,
 "nbformat_minor": 5
}
