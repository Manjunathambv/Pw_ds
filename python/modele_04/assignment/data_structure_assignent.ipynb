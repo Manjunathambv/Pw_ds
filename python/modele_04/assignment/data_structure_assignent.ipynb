{
 "cells": [
  {
   "cell_type": "markdown",
   "metadata": {},
   "source": [
    "# Data Types and Data structure"
   ]
  },
  {
   "cell_type": "markdown",
   "metadata": {},
   "source": [
    "1. What are data structures, and why are they important?\n",
    "    - Data structures are organized ways to store, manage, and retrieve data efficiently. They are essential in programming because they determine how data is stored and accessed, impacting the performance and scalability of algorithms and applications.\n",
    "2. Explain the difference between mutable and immutable data types with examples? \n",
    "    - Mutable Data Types:\n",
    "        Mutable data types are those whose values can be changed after they are created.\n",
    "        Example : my_list = [1, 2, 3]\n",
    "                    my_list[0] = 10  # Modifying an element\n",
    "                    my_list.append(4)  # Adding an element\n",
    "                    print(my_list)\n",
    "    - Immutable data types are those whose values cannot be changed after they are created.\n",
    "        Example: \n",
    "            my_tuple = (1, 2, 3)\n",
    "            my_tuple[0] = 10  # This will raise a TypeError\n",
    "            print(my_tuple) \n",
    "3. What are the main differences between lists and tuples in Python ?\n",
    "    - Mutable data types are those whose values can be changed after they are created.\n",
    "        Examples: Lists, dictionaries, sets.\n",
    "        Key Characteristics:\n",
    "        Elements can be modified, added, or removed.\n",
    "        They are not hashable and cannot be used as dictionary keys or set elements.\n",
    "        Suitable for dynamic data that requires frequent updates.\n",
    "    - Immutable data types are those whose values cannot be changed after they are created.\n",
    "        Examples: Tuples, strings, integers, floats.\n",
    "        Key Characteristics:\n",
    "        Elements cannot be modified after creation.\n",
    "        They are hashable (if all elements are immutable) and can be used as dictionary keys or set elements.\n",
    "        Suitable for fixed/static data where immutability ensures data integrity.\n",
    "4. Describe how dictionaries store data ?\n",
    "    - Dictionaries in Python store data as key-value pairs. Each key in a dictionary is unique and acts as an identifier for its corresponding value. The underlying mechanism used by dictionaries is a hash table, which ensures efficient data storage and retrieval.\n",
    "5. Why might you use a set instead of a list in Python ?\n",
    "    - A set in Python is an unordered collection of unique elements, while a list is an ordered collection that can contain duplicate elements.\n",
    "    - Eliminating duplicates\n",
    "    - Faster Membership testing\n",
    "6. What is a string in Python, and how is it different from a list?\n",
    "    - A string in Python is a sequence of characters enclosed within single quotes ('), double quotes (\"), or triple quotes (''' or \"\"\"). Strings are used to represent text data and are immutable, meaning their content cannot be changed after creation.\n",
    "\n",
    "7. How do tuples ensure data integrity in Python ?\n",
    "    - Tuples ensure data integrity in Python through their immutability. Once a tuple is created, its elements cannot be modified, added, or removed. This immutability makes tuples a reliable choice for storing data that must remain constant throughout the program's execution.\n",
    "8. What is a hash table, and how does it relate to dictionaries in Python ?\n",
    "    - A hash table is a data structure that stores data in an associative manner using key-value pairs. It uses a hash function to compute an index (or hash code) for a given key, which determines where the corresponding value will be stored in the table. This allows for efficient data retrieval, insertion, and deletion.\n",
    "9. Can lists contain different data types in Python ?\n",
    "    - yes\n",
    "10. Explain why strings are immutable in Python ?\n",
    "    - Strings in Python are immutable, meaning their content cannot be changed after they are created. \n",
    "11. What advantages do dictionaries offer over lists for certain tasks ?\n",
    "    - Key-Value Pair Storage:\n",
    "        Dictionaries store data as key-value pairs, allowing for more meaningful and descriptive data organization. In contrast, lists store data as a sequence of elements without any inherent relationship between them.\n",
    "    - Faster Lookups:\n",
    "        Dictionaries provide O(1) average time complexity for lookups using keys, while lists require O(n) time complexity for searching elements.\n",
    "\n",
    "12. How do sets handle duplicate values in Python ?\n",
    "    - In Python, sets are collections of unique elements. When duplicate values are added to a set, they are automatically removed, ensuring that each element in the set is unique.\n",
    "13. Describe a scenario where using a tuple would be preferable over a list ?\n",
    "    - A tuple is preferable over a list when you need to store fixed, unchangeable data that should remain constant throughout the program's execution. Since tuples are immutable, they ensure data integrity and prevent accidental modifications.\n",
    "14. How does the “in” keyword work differently for lists and dictionaries ?\n",
    "    - The in keyword is used to check for membership in both lists and dictionaries\n",
    "    - For Lists: The in keyword checks if a specific value exists as an element in the list\n",
    "\n",
    "    - For Dictionaries: The in keyword checks if a specific value exists as a key in the dictionary, not as a value.\n",
    "\n",
    "15. Can you modify the elements of a tuple? \n",
    "    - No it is an immutable object\n",
    "16. Explain why or why not What is a nested dictionary, and give an example of its use case ?\n",
    "    -  A nested dictionary is a dictionary that contains another dictionary as its value. This allows for hierarchical or multi-level data storage, where each key can map to another dictionary, enabling complex data structures.\n",
    "17. Describe the time complexity of accessing elements in a dictionary ?\n",
    "    - Accessing elements in a dictionary in Python has an average time complexity of O(1) (constant time).\n",
    "18. In what situations are lists preferred over dictionaries ?\n",
    "    - When order matters, and alsi when there is not requirement of key-value pair\n",
    "19. Why are dictionaries considered unordered, and how does that affect data retrieval ?\n",
    "    - Dictionaries in Python are considered unordered because they do not maintain the order of their elements based on insertion. Instead, the elements are stored in a way that optimizes for fast lookups using a hash table.\n",
    "20. Explain the difference between a list and a dictionary in terms of data retrieval.\n",
    "    - List: Data is accessed using an index (positional access). The index is an integer representing the position of the element in the list.\n",
    "    - Dictionary: Data is accessed using a key (key-based access). The key is a unique identifier for the value."
   ]
  },
  {
   "cell_type": "markdown",
   "metadata": {},
   "source": [
    "# coding questions"
   ]
  },
  {
   "cell_type": "code",
   "execution_count": 3,
   "metadata": {},
   "outputs": [
    {
     "name": "stdout",
     "output_type": "stream",
     "text": [
      "My name is: Manjunatha B V\n"
     ]
    }
   ],
   "source": [
    "# 1. Write a code to create a string with your name and print it \n",
    "my_name = \"Manjunatha B V\"\n",
    "print(\"My name is:\", my_name)\n"
   ]
  },
  {
   "cell_type": "code",
   "execution_count": 4,
   "metadata": {},
   "outputs": [
    {
     "name": "stdout",
     "output_type": "stream",
     "text": [
      "Length of the word 'Hello World' is: 11\n"
     ]
    }
   ],
   "source": [
    "# 2. Write a code to find the length of the string \"Hello World\" \n",
    "word = \"Hello World\"\n",
    "length_of_word = len(word)\n",
    "print(\"Length of the word 'Hello World' is:\", length_of_word)"
   ]
  },
  {
   "cell_type": "code",
   "execution_count": 5,
   "metadata": {},
   "outputs": [
    {
     "name": "stdout",
     "output_type": "stream",
     "text": [
      "First 3 characters of 'Python Programming' are: Pyt\n"
     ]
    }
   ],
   "source": [
    "# 3. Write a code to slice the first 3 characters from the string \"Python Programming\" \n",
    "string_to_slice = \"Python Programming\"\n",
    "sliced_string = string_to_slice[:3]\n",
    "print(\"First 3 characters of 'Python Programming' are:\", sliced_string)"
   ]
  },
  {
   "cell_type": "code",
   "execution_count": 6,
   "metadata": {},
   "outputs": [
    {
     "name": "stdout",
     "output_type": "stream",
     "text": [
      "Uppercase of 'hello' is: HELLO\n"
     ]
    }
   ],
   "source": [
    "# 4. Write a code to convert the string \"hello\" to uppercase \n",
    "string_to_convert = \"hello\"\n",
    "uppercase_string = string_to_convert.upper()    \n",
    "print(\"Uppercase of 'hello' is:\", uppercase_string)"
   ]
  },
  {
   "cell_type": "code",
   "execution_count": 7,
   "metadata": {},
   "outputs": [
    {
     "name": "stdout",
     "output_type": "stream",
     "text": [
      "After replacing 'apple' with 'orange': I like orange\n"
     ]
    }
   ],
   "source": [
    "# 5. Write a code to replace the word \"apple\" with \"orange\" in the string \"I like apple\" \n",
    "string_to_replace = \"I like apple\"\n",
    "replaced_string = string_to_replace.replace(\"apple\", \"orange\")\n",
    "print(\"After replacing 'apple' with 'orange':\", replaced_string)"
   ]
  },
  {
   "cell_type": "code",
   "execution_count": 8,
   "metadata": {},
   "outputs": [
    {
     "name": "stdout",
     "output_type": "stream",
     "text": [
      "List of numbers from 1 to 5: [1, 2, 3, 4, 5]\n"
     ]
    }
   ],
   "source": [
    "# 6. Write a code to create a list with numbers 1 to 5 and print it \n",
    "numbers_list = [1, 2, 3, 4, 5]\n",
    "print(\"List of numbers from 1 to 5:\", numbers_list)"
   ]
  },
  {
   "cell_type": "code",
   "execution_count": 9,
   "metadata": {},
   "outputs": [
    {
     "name": "stdout",
     "output_type": "stream",
     "text": [
      "List after appending 10: [1, 2, 3, 4, 10]\n"
     ]
    }
   ],
   "source": [
    "# 7. Write a code to append the number 10 to the list [1, 2, 3, 4] \n",
    "numbers_list = [1, 2, 3, 4]\n",
    "numbers_list.append(10)\n",
    "print(\"List after appending 10:\", numbers_list)"
   ]
  },
  {
   "cell_type": "code",
   "execution_count": 10,
   "metadata": {},
   "outputs": [
    {
     "name": "stdout",
     "output_type": "stream",
     "text": [
      "List after removing 3: [1, 2, 4, 5]\n"
     ]
    }
   ],
   "source": [
    "# 8. Write a code to remove the number 3 from the list [1, 2, 3, 4, 5] \n",
    "numbers_list = [1, 2, 3, 4, 5]\n",
    "numbers_list.remove(3)\n",
    "print(\"List after removing 3:\", numbers_list)"
   ]
  },
  {
   "cell_type": "code",
   "execution_count": 11,
   "metadata": {},
   "outputs": [
    {
     "name": "stdout",
     "output_type": "stream",
     "text": [
      "Second element in the list is: b\n"
     ]
    }
   ],
   "source": [
    "# 9. Write a code to access the second element in the list ['a', 'b', 'c', 'd'] \n",
    "letters_list = ['a', 'b', 'c', 'd']\n",
    "second_element = letters_list[1]\n",
    "print(\"Second element in the list is:\", second_element)"
   ]
  },
  {
   "cell_type": "code",
   "execution_count": 12,
   "metadata": {},
   "outputs": [
    {
     "name": "stdout",
     "output_type": "stream",
     "text": [
      "Reversed list is: [50, 40, 30, 20, 10]\n"
     ]
    }
   ],
   "source": [
    "# 10. Write a code to reverse the list [10, 20, 30, 40, 50]. Java + DSA Pwskills11. \n",
    "numbers_list = [10, 20, 30, 40, 50]\n",
    "numbers_list.reverse()\n",
    "print(\"Reversed list is:\", numbers_list)"
   ]
  },
  {
   "cell_type": "code",
   "execution_count": 13,
   "metadata": {},
   "outputs": [
    {
     "name": "stdout",
     "output_type": "stream",
     "text": [
      "Tuple with elements 100, 200, 300: (100, 200, 300)\n"
     ]
    }
   ],
   "source": [
    "# 11. Write a code to create a tuple with the elements 100, 200, 300 and print it. \n",
    "numbers_tuple = (100, 200, 300)\n",
    "print(\"Tuple with elements 100, 200, 300:\", numbers_tuple)"
   ]
  },
  {
   "cell_type": "code",
   "execution_count": 14,
   "metadata": {},
   "outputs": [
    {
     "name": "stdout",
     "output_type": "stream",
     "text": [
      "Second-to-last element in the tuple is: blue\n"
     ]
    }
   ],
   "source": [
    "# 12. Write a code to access the second-to-last element of the tuple ('red', 'green', 'blue', 'yellow').\n",
    "colors_tuple = ('red', 'green', 'blue', 'yellow')\n",
    "second_to_last_element = colors_tuple[-2]\n",
    "print(\"Second-to-last element in the tuple is:\", second_to_last_element)"
   ]
  },
  {
   "cell_type": "code",
   "execution_count": 15,
   "metadata": {},
   "outputs": [
    {
     "name": "stdout",
     "output_type": "stream",
     "text": [
      "Minimum number in the tuple is: 5\n"
     ]
    }
   ],
   "source": [
    "# 13. Write a code to find the minimum number in the tuple (10, 20, 5, 15). \n",
    "numbers_tuple = (10, 20, 5, 15)\n",
    "min_number = min(numbers_tuple)\n",
    "print(\"Minimum number in the tuple is:\", min_number)"
   ]
  },
  {
   "cell_type": "code",
   "execution_count": 16,
   "metadata": {},
   "outputs": [
    {
     "name": "stdout",
     "output_type": "stream",
     "text": [
      "Index of 'cat' in the tuple is: 1\n"
     ]
    }
   ],
   "source": [
    "# 14. Write a code to find the index of the element \"cat\" in the tuple ('dog', 'cat', 'rabbit'). \n",
    "animals_tuple = ('dog', 'cat', 'rabbit')\n",
    "index_of_cat = animals_tuple.index('cat')\n",
    "print(\"Index of 'cat' in the tuple is:\", index_of_cat)"
   ]
  },
  {
   "cell_type": "code",
   "execution_count": 17,
   "metadata": {},
   "outputs": [
    {
     "name": "stdout",
     "output_type": "stream",
     "text": [
      "Is 'kiwi' in the tuple? False\n"
     ]
    }
   ],
   "source": [
    "# 15. Write a code to create a tuple containing three different fruits and check if \"kiwi\" is in it. \n",
    "fruits_tuple = ('apple', 'banana', 'orange')\n",
    "is_kiwi_in_tuple = 'kiwi' in fruits_tuple\n",
    "print(\"Is 'kiwi' in the tuple?\", is_kiwi_in_tuple)"
   ]
  },
  {
   "cell_type": "code",
   "execution_count": 18,
   "metadata": {},
   "outputs": [
    {
     "name": "stdout",
     "output_type": "stream",
     "text": [
      "Set with elements 'a', 'b', 'c': {'c', 'b', 'a'}\n"
     ]
    }
   ],
   "source": [
    "# 16. Write a code to create a set with the elements 'a', 'b', 'c' and print it.\n",
    "letters_set = {'a', 'b', 'c'}\n",
    "print(\"Set with elements 'a', 'b', 'c':\", letters_set)\n"
   ]
  },
  {
   "cell_type": "code",
   "execution_count": 19,
   "metadata": {},
   "outputs": [
    {
     "name": "stdout",
     "output_type": "stream",
     "text": [
      "Set after clearing all elements: set()\n"
     ]
    }
   ],
   "source": [
    "# 17. Write a code to clear all elements from the set {1, 2, 3, 4, 5}.\n",
    "numbers_set = {1, 2, 3, 4, 5}\n",
    "numbers_set.clear()\n",
    "print(\"Set after clearing all elements:\", numbers_set)"
   ]
  },
  {
   "cell_type": "code",
   "execution_count": 20,
   "metadata": {},
   "outputs": [
    {
     "name": "stdout",
     "output_type": "stream",
     "text": [
      "Set after removing 4: {1, 2, 3}\n"
     ]
    }
   ],
   "source": [
    "# 18. Write a code to remove the element 4 from the set {1, 2, 3, 4}.\n",
    "numbers_set = {1, 2, 3, 4}\n",
    "numbers_set.remove(4)\n",
    "print(\"Set after removing 4:\", numbers_set)"
   ]
  },
  {
   "cell_type": "code",
   "execution_count": 22,
   "metadata": {},
   "outputs": [
    {
     "name": "stdout",
     "output_type": "stream",
     "text": [
      "Union of the sets is: {1, 2, 3, 4, 5}\n"
     ]
    }
   ],
   "source": [
    "# 19. Write a code to find the union of two sets {1, 2, 3} and {3, 4, 5}.\n",
    "set1 = {1, 2, 3}\n",
    "set2 = {3, 4, 5}\n",
    "union_set = set1.union(set2)\n",
    "print(\"Union of the sets is:\", union_set)"
   ]
  },
  {
   "cell_type": "code",
   "execution_count": 23,
   "metadata": {},
   "outputs": [
    {
     "name": "stdout",
     "output_type": "stream",
     "text": [
      "Intersection of the sets is: {2, 3}\n"
     ]
    }
   ],
   "source": [
    "# 20. Write a code to find the intersection of two sets {1, 2, 3} and {2, 3, 4}.\n",
    "set1 = {1, 2, 3}\n",
    "set2 = {2, 3, 4}\n",
    "intersection_set = set1.intersection(set2)\n",
    "print(\"Intersection of the sets is:\", intersection_set)"
   ]
  },
  {
   "cell_type": "code",
   "execution_count": 24,
   "metadata": {},
   "outputs": [
    {
     "name": "stdout",
     "output_type": "stream",
     "text": [
      "Dictionary with keys 'name', 'age', and 'city': {'name': 'John Doe', 'age': 30, 'city': 'New York'}\n"
     ]
    }
   ],
   "source": [
    "# 21. Write a code to create a dictionary with the keys \"name\", \"age\", and \"city\", and print it. \n",
    "person_dict = {\n",
    "    \"name\": \"John Doe\",\n",
    "    \"age\": 30,\n",
    "    \"city\": \"New York\"\n",
    "}\n",
    "print(\"Dictionary with keys 'name', 'age', and 'city':\", person_dict)"
   ]
  },
  {
   "cell_type": "code",
   "execution_count": null,
   "metadata": {},
   "outputs": [
    {
     "name": "stdout",
     "output_type": "stream",
     "text": [
      "Dictionary after adding 'country': {'name': 'John', 'age': 25, 'country': 'USA'}\n"
     ]
    }
   ],
   "source": [
    "# 22. Write a code to add a new key-value pair \"country\": \"USA\" to the dictionary {'name': 'John', 'age': 25}. \n",
    "person_dict = {\n",
    "    'name': 'John',\n",
    "    'age': 25\n",
    "}\n",
    "person_dict['country'] = 'USA'\n",
    "print(\"Dictionary after adding 'country':\", person_dict)"
   ]
  },
  {
   "cell_type": "code",
   "execution_count": 26,
   "metadata": {},
   "outputs": [
    {
     "name": "stdout",
     "output_type": "stream",
     "text": [
      "Value associated with 'name' is: Alice\n"
     ]
    }
   ],
   "source": [
    "# 23. Write a code to access the value associated with the key \"name\" in the dictionary {'name': 'Alice', 'age': 30}. \n",
    "person_dict = {\n",
    "    'name': 'Alice',\n",
    "    'age': 30\n",
    "}\n",
    "name_value = person_dict['name']\n",
    "print(\"Value associated with 'name' is:\", name_value)"
   ]
  },
  {
   "cell_type": "code",
   "execution_count": 27,
   "metadata": {},
   "outputs": [
    {
     "name": "stdout",
     "output_type": "stream",
     "text": [
      "Dictionary after removing 'age': {'name': 'Bob', 'city': 'New York'}\n"
     ]
    }
   ],
   "source": [
    "# 24. Write a code to remove the key \"age\" from the dictionary {'name': 'Bob', 'age': 22, 'city': 'New York'}.\n",
    "person_dict = {\n",
    "    'name': 'Bob',\n",
    "    'age': 22,\n",
    "    'city': 'New York'\n",
    "}\n",
    "del person_dict['age']\n",
    "print(\"Dictionary after removing 'age':\", person_dict) "
   ]
  },
  {
   "cell_type": "code",
   "execution_count": 28,
   "metadata": {},
   "outputs": [
    {
     "name": "stdout",
     "output_type": "stream",
     "text": [
      "Does the key 'city' exist in the dictionary? True\n"
     ]
    }
   ],
   "source": [
    "# 25. Write a code to check if the key \"city\" exists in the dictionary {'name': 'Alice', 'city': 'Paris'}.\n",
    "person_dict = {\n",
    "    'name': 'Alice',\n",
    "    'city': 'Paris'\n",
    "}\n",
    "key_exists = 'city' in person_dict\n",
    "print(\"Does the key 'city' exist in the dictionary?\", key_exists)"
   ]
  },
  {
   "cell_type": "code",
   "execution_count": 29,
   "metadata": {},
   "outputs": [
    {
     "name": "stdout",
     "output_type": "stream",
     "text": [
      "List: [1, 2, 3]\n",
      "Tuple: (4, 5, 6)\n",
      "Dictionary: {'a': 1, 'b': 2}\n"
     ]
    }
   ],
   "source": [
    "# 26. Write a code to create a list, a tuple, and a dictionary, and print them all. \n",
    "my_list = [1, 2, 3]\n",
    "my_tuple = (4, 5, 6)\n",
    "my_dict = {'a': 1, 'b': 2}\n",
    "print(\"List:\", my_list)\n",
    "print(\"Tuple:\", my_tuple)\n",
    "print(\"Dictionary:\", my_dict)"
   ]
  },
  {
   "cell_type": "code",
   "execution_count": 30,
   "metadata": {},
   "outputs": [
    {
     "name": "stdout",
     "output_type": "stream",
     "text": [
      "Sorted list of random numbers: [29, 33, 73, 79, 92]\n"
     ]
    }
   ],
   "source": [
    "# 27. Write a code to create a list of 5 random numbers between 1 and 100, sort it in ascending order, and print the result.(replaced) \n",
    "import random\n",
    "random_numbers = random.sample(range(1, 101), 5)\n",
    "random_numbers.sort()\n",
    "print(\"Sorted list of random numbers:\", random_numbers)"
   ]
  },
  {
   "cell_type": "code",
   "execution_count": 31,
   "metadata": {},
   "outputs": [
    {
     "name": "stdout",
     "output_type": "stream",
     "text": [
      "Element at the third index is: date\n"
     ]
    }
   ],
   "source": [
    "# 28. Write a code to create a list with strings and print the element at the third index. \n",
    "string_list = [\"apple\", \"banana\", \"cherry\", \"date\", \"elderberry\"]\n",
    "third_index_element = string_list[3]\n",
    "print(\"Element at the third index is:\", third_index_element)"
   ]
  },
  {
   "cell_type": "code",
   "execution_count": 32,
   "metadata": {},
   "outputs": [
    {
     "name": "stdout",
     "output_type": "stream",
     "text": [
      "Combined dictionary: {'a': 1, 'b': 2, 'c': 3, 'd': 4}\n"
     ]
    }
   ],
   "source": [
    "# 29. Write a code to combine two dictionaries into one and print the result. \n",
    "dict1 = {'a': 1, 'b': 2}\n",
    "dict2 = {'c': 3, 'd': 4}\n",
    "combined_dict = {**dict1, **dict2}\n",
    "print(\"Combined dictionary:\", combined_dict)"
   ]
  },
  {
   "cell_type": "code",
   "execution_count": 33,
   "metadata": {},
   "outputs": [
    {
     "name": "stdout",
     "output_type": "stream",
     "text": [
      "Set from the list of strings: {'banana', 'cherry', 'apple'}\n"
     ]
    }
   ],
   "source": [
    " # 30. Write a code to convert a list of strings into a set.\n",
    "string_list = [\"apple\", \"banana\", \"cherry\"]\n",
    "string_set = set(string_list)\n",
    "print(\"Set from the list of strings:\", string_set)\n"
   ]
  },
  {
   "cell_type": "code",
   "execution_count": null,
   "metadata": {},
   "outputs": [],
   "source": []
  }
 ],
 "metadata": {
  "kernelspec": {
   "display_name": "base",
   "language": "python",
   "name": "python3"
  },
  "language_info": {
   "codemirror_mode": {
    "name": "ipython",
    "version": 3
   },
   "file_extension": ".py",
   "mimetype": "text/x-python",
   "name": "python",
   "nbconvert_exporter": "python",
   "pygments_lexer": "ipython3",
   "version": "3.8.8"
  }
 },
 "nbformat": 4,
 "nbformat_minor": 2
}
