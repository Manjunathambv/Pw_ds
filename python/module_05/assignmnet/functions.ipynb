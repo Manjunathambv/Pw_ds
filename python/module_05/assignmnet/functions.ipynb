{
 "cells": [
  {
   "cell_type": "markdown",
   "metadata": {},
   "source": [
    "# Theory question"
   ]
  },
  {
   "cell_type": "markdown",
   "metadata": {},
   "source": [
    "Note: For each theory Question, give at least one example. \n",
    "1. What is the difference between a function and a method in Python? \n",
    "    - function will be defined anywhere in order to use of reproducebility and not associated with any object. It is defined using the def keyword. \n",
    "    - where as method is used inside the class , it belongs to the that class only\n",
    "    - example for function:\n",
    "        - def greet(name):\n",
    "            - return f\"Hello, {name}!\"\n",
    "            - print(greet(\"Alice\"))\n",
    "    - example for method:\n",
    "        - name = \"Alice\"\n",
    "        - print(name.upper()) here upper() is a string method\n",
    "\n",
    "2. Explain the concept of function arguments and parameters in Python.? \n",
    "    - Parameter:\tA variable listed inside the parentheses in a function definition.\n",
    "        - example:\n",
    "            - def greet(name):  # 'name' is a parameter\n",
    "                - print(\"Hello,\", name)\n",
    "            - greet(\"Alice\") # \"Alice\" is the argument\n",
    "\n",
    "    - Argument:\tA value you pass into a function when you call it.\n",
    "    \n",
    "3. What are the different ways to define and call a function in Python? \n",
    "    - Python functions support several types of arguments: Positional, keyward, default, variable length arguments\n",
    "        - 1) function with parameters:\n",
    "            def greet(name):\n",
    "                print(f\"Hello, {name}!\")\n",
    "                greet(\"Alice\")  # Passing one argument\n",
    "        - 2) Defualt args\n",
    "            def greet(name=\"Guest\"):\n",
    "                print(f\"Hello, {name}!\")\n",
    "                greet(\"Alice\")\n",
    "        - 3) Function with multiple argumrnts\n",
    "            def add(a, b):\n",
    "                return a+b\n",
    "        - 4) variable length arguments\n",
    "            def total(*numbers):\n",
    "                return sum(numbers)\n",
    "        - 5) keyward arguments:\n",
    "            def display_info(**details):\n",
    "                for key, value in details.items():\n",
    "                    print(key, \":\", value)\n",
    "\n",
    "4. What is the purpose of the `return` statement in a Python function? \n",
    "    - The return statement in a Python function is used to send a result back to the caller of the function.\n",
    "    - example:\n",
    "        - def add(a, b):\n",
    "            - return a + b  # returns the sum of a and b\n",
    "        - result = add(3, 5)\n",
    "        - print(\"Sum is:\", result)\n",
    "\n",
    "5. What are iterators in Python and how do they differ from iterables? \n",
    "    - An iterable is any Python object that can be looped over (i.e. used in a for loop).\n",
    "        - example:\n",
    "            my_list = [1, 2, 3]\n",
    "            for item in my_list:  \n",
    "                print(item)\n",
    "    - An iterator is an object that keeps track of its position during iteration and returns one value at a time when you call next().\n",
    "        - example:\n",
    "            my_list = [1, 2, 3]\n",
    "            my_iter = iter(my_list)  # Create an iterator\n",
    "            print(next(my_iter))  # Output: 1\n",
    "            print(next(my_iter))  # Output: 2\n",
    "            print(next(my_iter))  # Output: 3\n",
    "\n",
    "\n",
    "6. Explain the concept of generators in Python and how they are defined. \n",
    "    - A generator is a special type of iterator that yields values one at a time, only when requested, using the yield keyword instead of return\n",
    "    - example:\n",
    "        def count_up_to(n):\n",
    "            count = 1\n",
    "            while count <= n:\n",
    "                yield count  # yield instead of return\n",
    "                count += 1\n",
    "7. What are the advantages of using generators over regular functions? \n",
    "    - Generators offer several advantages over regular functions, especially when working with large data sets, infinite sequences, or when you want to optimize memory and performance.\n",
    "        Generators don’t store all values in memory. They yield one value at a time, making them ideal for large data processing.\n",
    "\n",
    "8. What is a lambda function in Python and when is it typically used? \n",
    "    - A lambda function in Python is a small, anonymous function defined using the lambda keyword. It's used to create quick, throwaway functions without using def, typically for short, simple operations.\n",
    "    - syntax: lambda arguments: expression\n",
    "    - exmaple : \n",
    "        square = lambda x: x * x\n",
    "        print(square(5))  \n",
    "9. Explain the purpose and usage of the `map()` function in Python. \n",
    "    - The map() function in Python is a powerful tool for applying a function to every item in an iterable (like a list or tuple) without using a loop.\n",
    "    - example:\n",
    "        numbers = [\"1\", \"2\", \"3\", \"4\"]\n",
    "        int_numbers = list(map(int, numbers))\n",
    "        print(int_numbers)\n",
    "10. What is the difference between `map()`, `reduce()`, and `filter()` functions in Python? \n",
    "    - map()\tApplies a function to every item\tA new iterable\n",
    "        - example:\n",
    "            nums = [1, 2, 3, 4]\n",
    "            squares = list(map(lambda x: x * x, nums))\n",
    "            print(squares)\n",
    "    - filter()\tFilters items based on a condition\tA new iterable\n",
    "        - example:\n",
    "            nums = [1, 2, 3, 4, 5]\n",
    "            even = list(filter(lambda x: x % 2 == 0, nums))\n",
    "            print(even) \n",
    "    - reduce()\tReduces all items to a single value\tA single result\n",
    "        - example:\n",
    "            from functools import reduce\n",
    "            nums = [1, 2, 3, 4]\n",
    "            product = reduce(lambda x, y: x * y, nums)\n",
    "            print(product)\n",
    "\n",
    "11. Using pen & Paper write the internal mechanism for sum operation using  reduce function on this given list:[47,11,42,13]; \n",
    "    - Step 1: (47 + 11) = 58\n",
    "    - Step 2: (58 + 42) = 100\n",
    "    - Step 3: (100 + 13) = 113\n",
    "(Attach paper image for this answer) in doc or colab notebook."
   ]
  },
  {
   "cell_type": "code",
   "execution_count": 1,
   "metadata": {},
   "outputs": [
    {
     "data": {
      "text/plain": [
       "12"
      ]
     },
     "execution_count": 1,
     "metadata": {},
     "output_type": "execute_result"
    }
   ],
   "source": [
    "# Write a Python function that takes a list of numbers as input and returns the sum of all even numbers in the list.\n",
    "def sum_of_even_numbers(numbers):\n",
    "    \"\"\"\n",
    "    This function takes a list of numbers and returns the sum of all even numbers in the list.\n",
    "\n",
    "    :param numbers: List of integers\n",
    "    :return: Sum of even integers in the list\n",
    "    \"\"\"\n",
    "    return sum(num for num in numbers if num % 2 == 0)\n",
    "sum_of_even_numbers([1, 2, 3, 4, 5, 6])  # Example usage\n"
   ]
  },
  {
   "cell_type": "code",
   "execution_count": 2,
   "metadata": {},
   "outputs": [
    {
     "data": {
      "text/plain": [
       "'olleh'"
      ]
     },
     "execution_count": 2,
     "metadata": {},
     "output_type": "execute_result"
    }
   ],
   "source": [
    "# Create a Python function that accepts a string and returns the reverse of that string. \n",
    "def reverse_string(s):\n",
    "    \"\"\"\n",
    "    This function takes a string and returns its reverse.\n",
    "\n",
    "    :param s: Input string\n",
    "    :return: Reversed string\n",
    "    \"\"\"\n",
    "    return s[::-1]\n",
    "reverse_string(\"hello\")  # Example usage"
   ]
  },
  {
   "cell_type": "code",
   "execution_count": 3,
   "metadata": {},
   "outputs": [
    {
     "data": {
      "text/plain": [
       "[1, 4, 9, 16, 25]"
      ]
     },
     "execution_count": 3,
     "metadata": {},
     "output_type": "execute_result"
    }
   ],
   "source": [
    "# Implement a Python function that takes a list of integers and returns a new list containing the squares of each number. \n",
    "def square_numbers(numbers):\n",
    "    \"\"\"\n",
    "    This function takes a list of integers and returns a new list containing the squares of each number.\n",
    "\n",
    "    :param numbers: List of integers\n",
    "    :return: List of squared integers\n",
    "    \"\"\"\n",
    "    return [num ** 2 for num in numbers]\n",
    "square_numbers([1, 2, 3, 4, 5])  # Example usage"
   ]
  },
  {
   "cell_type": "code",
   "execution_count": 14,
   "metadata": {},
   "outputs": [
    {
     "data": {
      "text/plain": [
       "True"
      ]
     },
     "execution_count": 14,
     "metadata": {},
     "output_type": "execute_result"
    }
   ],
   "source": [
    "# Write a Python function that checks if a given number is prime or not from 1 to 200.\n",
    "def is_prime(n):\n",
    "    \"\"\"\n",
    "    This function checks if a number is prime.\n",
    "\n",
    "    :param n: Input integer\n",
    "    :return: True if prime, False otherwise\n",
    "    \"\"\"\n",
    "    if n <= 1:\n",
    "        return False\n",
    "    elif n > 1 and n <= 200:\n",
    "        d = 2\n",
    "        while d <= n:\n",
    "            if n % d == 0 and d != n:\n",
    "                return False\n",
    "            d += 1\n",
    "        else:\n",
    "            return True\n",
    "    else:\n",
    "        print(\"Number is out of range (1-200)\")\n",
    "is_prime(7)  # Example usage"
   ]
  },
  {
   "cell_type": "code",
   "execution_count": 17,
   "metadata": {},
   "outputs": [
    {
     "name": "stdout",
     "output_type": "stream",
     "text": [
      "0 1 1 2 3 5 8 13 21 34 "
     ]
    }
   ],
   "source": [
    "# Create an iterator class in Python that generates the Fibonacci sequence up to a specified number of terms. \n",
    "class FibonacciIterator:\n",
    "    \"\"\"\n",
    "    This class generates the Fibonacci sequence up to a specified number of terms.\n",
    "    \"\"\"\n",
    "    def __init__(self, terms):\n",
    "        self.terms = terms\n",
    "        self.a, self.b = 0, 1\n",
    "        self.count = 0\n",
    "\n",
    "    def __iter__(self):\n",
    "        return self\n",
    "\n",
    "    def __next__(self):\n",
    "        if self.count < self.terms:\n",
    "            result = self.a\n",
    "            self.a, self.b = self.b, self.a + self.b\n",
    "            self.count += 1\n",
    "            return result\n",
    "        else:\n",
    "            raise StopIteration\n",
    "        \n",
    "# Example usage\n",
    "fibonacci = FibonacciIterator(10)\n",
    "for num in fibonacci:\n",
    "    print(num, end=' ')"
   ]
  },
  {
   "cell_type": "code",
   "execution_count": 18,
   "metadata": {},
   "outputs": [
    {
     "name": "stdout",
     "output_type": "stream",
     "text": [
      "1 2 4 8 16 32 "
     ]
    }
   ],
   "source": [
    "# Write a generator function in Python that yields the powers of 2 up to a given exponent. \n",
    "def powers_of_two(exponent):\n",
    "    \"\"\"\n",
    "    This generator function yields the powers of 2 up to a given exponent.\n",
    "\n",
    "    :param exponent: Maximum exponent\n",
    "    \"\"\"\n",
    "    for i in range(exponent + 1):\n",
    "        yield 2 ** i\n",
    "# Example usage\n",
    "for power in powers_of_two(5):\n",
    "    print(power, end=' ')"
   ]
  },
  {
   "cell_type": "code",
   "execution_count": null,
   "metadata": {},
   "outputs": [],
   "source": []
  },
  {
   "cell_type": "code",
   "execution_count": 19,
   "metadata": {},
   "outputs": [
    {
     "ename": "FileNotFoundError",
     "evalue": "[Errno 2] No such file or directory: 'example.txt'",
     "output_type": "error",
     "traceback": [
      "\u001b[1;31m---------------------------------------------------------------------------\u001b[0m",
      "\u001b[1;31mFileNotFoundError\u001b[0m                         Traceback (most recent call last)",
      "\u001b[1;32m<ipython-input-19-eb4c0e5ff716>\u001b[0m in \u001b[0;36m<module>\u001b[1;34m\u001b[0m\n\u001b[0;32m     11\u001b[0m \u001b[1;31m# Example usage\u001b[0m\u001b[1;33m\u001b[0m\u001b[1;33m\u001b[0m\u001b[1;33m\u001b[0m\u001b[0m\n\u001b[0;32m     12\u001b[0m \u001b[1;31m# Assuming 'example.txt' exists in the current directory\u001b[0m\u001b[1;33m\u001b[0m\u001b[1;33m\u001b[0m\u001b[1;33m\u001b[0m\u001b[0m\n\u001b[1;32m---> 13\u001b[1;33m \u001b[1;32mfor\u001b[0m \u001b[0mline\u001b[0m \u001b[1;32min\u001b[0m \u001b[0mread_file_line_by_line\u001b[0m\u001b[1;33m(\u001b[0m\u001b[1;34m'example.txt'\u001b[0m\u001b[1;33m)\u001b[0m\u001b[1;33m:\u001b[0m\u001b[1;33m\u001b[0m\u001b[1;33m\u001b[0m\u001b[0m\n\u001b[0m\u001b[0;32m     14\u001b[0m     \u001b[0mprint\u001b[0m\u001b[1;33m(\u001b[0m\u001b[0mline\u001b[0m\u001b[1;33m)\u001b[0m\u001b[1;33m\u001b[0m\u001b[1;33m\u001b[0m\u001b[0m\n\u001b[0;32m     15\u001b[0m \u001b[1;33m\u001b[0m\u001b[0m\n",
      "\u001b[1;32m<ipython-input-19-eb4c0e5ff716>\u001b[0m in \u001b[0;36mread_file_line_by_line\u001b[1;34m(file_path)\u001b[0m\n\u001b[0;32m      6\u001b[0m     \u001b[1;33m:\u001b[0m\u001b[0mparam\u001b[0m \u001b[0mfile_path\u001b[0m\u001b[1;33m:\u001b[0m \u001b[0mPath\u001b[0m \u001b[0mto\u001b[0m \u001b[0mthe\u001b[0m \u001b[0mfile\u001b[0m\u001b[1;33m\u001b[0m\u001b[1;33m\u001b[0m\u001b[0m\n\u001b[0;32m      7\u001b[0m     \"\"\"\n\u001b[1;32m----> 8\u001b[1;33m     \u001b[1;32mwith\u001b[0m \u001b[0mopen\u001b[0m\u001b[1;33m(\u001b[0m\u001b[0mfile_path\u001b[0m\u001b[1;33m,\u001b[0m \u001b[1;34m'r'\u001b[0m\u001b[1;33m)\u001b[0m \u001b[1;32mas\u001b[0m \u001b[0mfile\u001b[0m\u001b[1;33m:\u001b[0m\u001b[1;33m\u001b[0m\u001b[1;33m\u001b[0m\u001b[0m\n\u001b[0m\u001b[0;32m      9\u001b[0m         \u001b[1;32mfor\u001b[0m \u001b[0mline\u001b[0m \u001b[1;32min\u001b[0m \u001b[0mfile\u001b[0m\u001b[1;33m:\u001b[0m\u001b[1;33m\u001b[0m\u001b[1;33m\u001b[0m\u001b[0m\n\u001b[0;32m     10\u001b[0m             \u001b[1;32myield\u001b[0m \u001b[0mline\u001b[0m\u001b[1;33m.\u001b[0m\u001b[0mstrip\u001b[0m\u001b[1;33m(\u001b[0m\u001b[1;33m)\u001b[0m\u001b[1;33m\u001b[0m\u001b[1;33m\u001b[0m\u001b[0m\n",
      "\u001b[1;31mFileNotFoundError\u001b[0m: [Errno 2] No such file or directory: 'example.txt'"
     ]
    }
   ],
   "source": [
    "# Implement a generator function that reads a file line by line and yields each line as a string.\n",
    "def read_file_line_by_line(file_path):\n",
    "    \"\"\"\n",
    "    This generator function reads a file line by line and yields each line as a string.\n",
    "\n",
    "    :param file_path: Path to the file\n",
    "    \"\"\"\n",
    "    with open(file_path, 'r') as file:\n",
    "        for line in file:\n",
    "            yield line.strip()\n",
    "# Example usage\n",
    "# Assuming 'example.txt' exists in the current directory\n",
    "for line in read_file_line_by_line('example.txt'):\n",
    "    print(line)\n",
    "    "
   ]
  },
  {
   "cell_type": "code",
   "execution_count": 20,
   "metadata": {},
   "outputs": [
    {
     "name": "stdout",
     "output_type": "stream",
     "text": [
      "[(2, 'apple'), (1, 'banana'), (3, 'cherry')]\n"
     ]
    }
   ],
   "source": [
    "# Use a lambda function in Python to sort a list of tuples based on the second element of each tuple. \n",
    "def sort_tuples(tuples_list):\n",
    "    \"\"\"\n",
    "    This function sorts a list of tuples based on the second element of each tuple.\n",
    "\n",
    "    :param tuples_list: List of tuples\n",
    "    :return: Sorted list of tuples\n",
    "    \"\"\"\n",
    "    return sorted(tuples_list, key=lambda x: x[1])\n",
    "# Example usage\n",
    "tuples = [(1, 'banana'), (2, 'apple'), (3, 'cherry')]\n",
    "sorted_tuples = sort_tuples(tuples)\n",
    "print(sorted_tuples)  "
   ]
  },
  {
   "cell_type": "code",
   "execution_count": 21,
   "metadata": {},
   "outputs": [
    {
     "name": "stdout",
     "output_type": "stream",
     "text": [
      "[32.0, 68.0, 98.6, 212.0]\n"
     ]
    }
   ],
   "source": [
    "# Write a Python program that uses `map()` to convert a list of temperatures from Celsius to Fahrenheit. \n",
    "def celsius_to_fahrenheit(celsius_list):\n",
    "    \"\"\"\n",
    "    This function converts a list of temperatures from Celsius to Fahrenheit.\n",
    "\n",
    "    :param celsius_list: List of temperatures in Celsius\n",
    "    :return: List of temperatures in Fahrenheit\n",
    "    \"\"\"\n",
    "    return list(map(lambda c: (c * 9/5) + 32, celsius_list))\n",
    "# Example usage\n",
    "celsius = [0, 20, 37, 100]\n",
    "fahrenheit = celsius_to_fahrenheit(celsius)\n",
    "print(fahrenheit)  "
   ]
  },
  {
   "cell_type": "code",
   "execution_count": 22,
   "metadata": {},
   "outputs": [
    {
     "name": "stdout",
     "output_type": "stream",
     "text": [
      "Hll Wrld\n"
     ]
    }
   ],
   "source": [
    "#  Create a Python program that uses `filter()` to remove all the vowels from a given string.\n",
    "def remove_vowels(s):\n",
    "    \"\"\"\n",
    "    This function removes all vowels from a given string.\n",
    "\n",
    "    :param s: Input string\n",
    "    :return: String without vowels\n",
    "    \"\"\"\n",
    "    vowels = 'aeiouAEIOU'\n",
    "    return ''.join(filter(lambda x: x not in vowels, s))\n",
    "# Example usage\n",
    "input_string = \"Hello World\"\n",
    "output_string = remove_vowels(input_string)\n",
    "print(output_string)  "
   ]
  },
  {
   "cell_type": "code",
   "execution_count": 32,
   "metadata": {},
   "outputs": [
    {
     "name": "stdout",
     "output_type": "stream",
     "text": [
      "(34587, 163.8)\n",
      "(98762, 284.0)\n",
      "(77226, 108.85000000000001)\n",
      "(88112, 84.97)\n"
     ]
    }
   ],
   "source": [
    "# 11) Imagine an accounting routine used in a book shop. \n",
    "# It works on a list with sublists, which look like this: \n",
    "# Write a Python program, which returns a list with 2-tuples. Each tuple consists of the order number \n",
    "# and the product of the price per item and the quantity. The product should be increased by 10,\n",
    "# - € if the value of the order is smaller than 100,00 €. Write a Python program using lambda and map.\n",
    "order = {\"order_number\":[34587, 98762, 77226  , 88112],\n",
    "             \"Book Title and Autor\":[\"Learning Python, Mark Lutz\", \n",
    "                                     \"Programming in Python, Mark Lutz\", \n",
    "                                     \"Head First Python, Paul Barry\", \n",
    "                                     \"Einführung in Python 3, Bernd Klein\"],\n",
    "            \"Quantity\":[4, 5, 3, 3],\n",
    "            \"Price per item\":[40.95, 56.80, 32.95, 24.99],\n",
    "}\n",
    "def calculate_order_value(orders):\n",
    "    \"\"\"\n",
    "    This function calculates the order value for each order in the given dictionary.\n",
    "\n",
    "    :param orders: Dictionary containing order details\n",
    "    :return: List of tuples with order number and calculated value\n",
    "    \"\"\"\n",
    "    lists = zip(list(orders[\"order_number\"]), orders[\"Price per item\"], orders[\"Quantity\"])\n",
    "\n",
    "    lists = list(map(lambda x: (x[0], x[1] * x[2] + 10) if (x[1] * x[2]) < 100 else (x[0], x[1] * x[2]), lists))\n",
    "    return lists\n",
    "\n",
    "ans = calculate_order_value(order)\n",
    "for i in ans:\n",
    "    print(i)\n",
    "    \n"
   ]
  },
  {
   "cell_type": "code",
   "execution_count": null,
   "metadata": {},
   "outputs": [],
   "source": []
  }
 ],
 "metadata": {
  "kernelspec": {
   "display_name": "base",
   "language": "python",
   "name": "python3"
  },
  "language_info": {
   "codemirror_mode": {
    "name": "ipython",
    "version": 3
   },
   "file_extension": ".py",
   "mimetype": "text/x-python",
   "name": "python",
   "nbconvert_exporter": "python",
   "pygments_lexer": "ipython3",
   "version": "3.8.8"
  }
 },
 "nbformat": 4,
 "nbformat_minor": 2
}
