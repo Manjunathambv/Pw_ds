{
 "cells": [
  {
   "cell_type": "markdown",
   "id": "e441fefb",
   "metadata": {},
   "source": [
    "# Theory questions"
   ]
  },
  {
   "cell_type": "markdown",
   "id": "2c0ed2eb",
   "metadata": {},
   "source": [
    "1. What is the difference between interpreted and compiled languages ?\n",
    "    - Process: Code is translated entirely into machine code by a compiler before it's run.\n",
    "    - Process: Code is executed line-by-line by an interpreter at runtime.\n",
    "2. What is exception handling in Python ?\n",
    "    - Exception handling in Python is a way to manage errors that occur during program execution without crashing the program. It allows you to catch and handle errors gracefully.\n",
    "3. What is the purpose of the finally block in exception handling ?\n",
    "    - The finally block in Python is used in exception handling to define cleanup actions that must be executed no matter what—whether an exception was raised or not.\n",
    "4. What is logging in Python ?\n",
    "    - Logging in Python is a way to track events that happen when your program runs. It's especially useful for debugging, monitoring, and diagnosing problems without interrupting the program's flow (unlike print()).\n",
    "5. What is the significance of the __del__ method in Python ?\n",
    "    - The __del__ method in Python is called a destructor. It is a special method that is automatically invoked when an object is about to be destroyed (garbage collected).\n",
    "6. What is the difference between import and from ... import in Python ?\n",
    "    - Both import and from ... import are used to bring in external modules or specific parts of a module, but they differ in how and what they import.\n",
    "        - Imports the entire module — you access its contents with the module name as a prefix.\n",
    "        - Imports specific objects (functions, classes, variables) from a module directly into your namespace.\n",
    "7. How can you handle multiple exceptions in Python ?\n",
    "    - In Python, you can handle multiple exceptions using multiple except blocks or by grouping exceptions in a single block. This gives you flexibility in responding to different types of errors.\n",
    "8. What is the purpose of the with statement when handling files in Python ?\n",
    "    - The with statement in Python is used to simplify file handling by automatically managing resources, like opening and closing files.\n",
    "9. What is the difference between multithreading and multiprocessing ?\n",
    "    - oth multithreading and multiprocessing are used for concurrent execution, but they differ in how they handle tasks and what resources they use.\n",
    "        - Runs multiple threads within the same process\n",
    "        - Runs multiple processes, each with its own Python interpreter and memory space.\n",
    "10. What are the advantages of using logging in a program ?\n",
    "    - Using the logging module in Python provides a structured, powerful, and flexible way to record information about your program's execution. Here are the key benefits:\n",
    "        - Tracks Program Execution\n",
    "        - Easier Debugging\n",
    "        - Severity Levels\n",
    "        - Can Be Saved to Files\n",
    "        - Works Across Modules\n",
    "        - Highly Configurable\n",
    "        - Safe for Production\n",
    "11. What is memory management in Python?\n",
    "    - Memory management in Python refers to the process by which Python allocates, manages, and frees memory used by your program during execution. It ensures that your program uses memory efficiently without leaks or crashes.\n",
    "12. What are the basic steps involved in exception handling in Python ?\n",
    "    - Exception handling in Python helps you gracefully handle errors without crashing your program. The typical steps are:\n",
    "        - Write Risky Code Inside a try Block\n",
    "        - Catch Exceptions Using except Block(s)\n",
    "13. Why is memory management important in Python ?\n",
    "    - Memory management is crucial because it ensures that your Python programs run efficiently, reliably, and without crashing.\n",
    "14. What is the role of try and except in exception handling ?\n",
    "    - try Block\n",
    "        - Purpose: Contains the code that might raise an exception (an error).\n",
    "        - Python monitors this code for exceptions.\n",
    "    - except Block\n",
    "        - Purpose: Defines how to handle specific exceptions if they occur inside the preceding try block.\n",
    "        - When an exception happens in the try block, Python jumps to the matching except block to handle it.\n",
    "        - Prevents the program from crashing and allows graceful recovery or messaging.\n",
    "        - If everything runs smoothly, the code inside try executes normally.\n",
    "15. How does Python's garbage collection system work ?\n",
    "    - Python’s garbage collection (GC) system is responsible for automatically reclaiming memory by deleting objects that are no longer needed, so your program doesn’t run out of memory.\n",
    "16. What is the purpose of the else block in exception handling ?\n",
    "    - The else block in a try-except structure is optional and is used to run code only if no exceptions were raised in the try block.\n",
    "17. What are the common logging levels in Python ?\n",
    "    - Debug, info, critical, error, warning\n",
    "18. What is the difference between os.fork() and multiprocessing in Python ?\n",
    "    - A low-level system call available on Unix/Linux systems that creates a new child process by duplicating the current process.\n",
    "19. What is the importance of closing a file in Python ?\n",
    "    - When a file is opened, the operating system allocates resources (like file descriptors) to manage it.\n",
    "    - If you don’t close the file, these resources stay allocated, potentially causing your program or system to run out of resources.\n",
    "20. What is the difference between file.read() and file.readline() in Python ?\n",
    "    - file.read()\n",
    "        - What it does: Reads the entire content of the file (or a specified number of bytes if you pass an argument).\n",
    "        - Returns: A string containing all the data read.\n",
    "    - file.readline():\n",
    "        - What it does: Reads one line from the file each time it is called. Returns: A string containing the next line, including the - newline character (\\n) at the end.\n",
    "21. What is the logging module in Python used for ?\n",
    "    - The logging module in Python is used for tracking events that happen when some software runs. It helps you record information about your program's execution, which can be useful for debugging, monitoring, and auditing.\n",
    "22. What is the os module in Python used for in file handling ?\n",
    "    - The os module in Python provides a way to interact with the operating system, and it’s very useful for file handling and manipulation beyond just reading and writing files.\n",
    "23. What are the challenges associated with memory management in Python \n",
    "    - 1. Handling Circular References\n",
    "    - Memory Fragmentation\n",
    "    - 3. Large Object Handling\n",
    "    - 4. Unpredictable Garbage Collection Timing\n",
    "    - 5. Limited Control over Memory Allocation\n",
    "    - 6. Global Interpreter Lock (GIL)\n",
    "    - 7. Memory Leaks from C Extensions\n",
    "24. How do you raise an exception manually in Python ?\n",
    "    - To raise an exception manually in Python, you use the raise statement followed by an exception instance or exception class.\n",
    "25. Why is it important to use multithreading in certain applications?\n",
    "    - Improves Responsiveness\n",
    "    - Performs Concurrent I/O Operations\n",
    "    - Better Resource Utilization\n",
    "    - Simplifies Program Design"
   ]
  },
  {
   "cell_type": "markdown",
   "id": "3affd373",
   "metadata": {},
   "source": [
    "# Practical questions:"
   ]
  },
  {
   "cell_type": "code",
   "execution_count": 2,
   "id": "8528d97b",
   "metadata": {},
   "outputs": [
    {
     "name": "stdout",
     "output_type": "stream",
     "text": [
      "Content written to example.txt\n"
     ]
    }
   ],
   "source": [
    "\"\"\"How can you open a file for writing in Python and write a string to it\"\"\"\n",
    "\n",
    "def write_to_file(filename, content):\n",
    "    \"\"\"Open a file for writing and write a string to it.\"\"\"\n",
    "    with open(filename, 'w') as file:\n",
    "        file.write(content)\n",
    "\n",
    "# Example usage\n",
    "write_to_file('example.txt', 'Hello, World!')\n",
    "print(\"Content written to example.txt\")"
   ]
  },
  {
   "cell_type": "code",
   "execution_count": 3,
   "id": "0d04df39",
   "metadata": {},
   "outputs": [
    {
     "name": "stdout",
     "output_type": "stream",
     "text": [
      "Hello, World!\n"
     ]
    }
   ],
   "source": [
    "\"\"\"\n",
    "Write a Python program to read the contents of a file and print each line\n",
    "\"\"\"\n",
    "def read_file(filename):\n",
    "    \"\"\"Read the contents of a file and print each line.\"\"\"\n",
    "    with open(filename, 'r') as file:\n",
    "        for line in file:\n",
    "            print(line.strip())\n",
    "# Example usage\n",
    "read_file('example.txt')\n",
    "\n"
   ]
  },
  {
   "cell_type": "code",
   "execution_count": 4,
   "id": "4f0cb450",
   "metadata": {},
   "outputs": [
    {
     "name": "stdout",
     "output_type": "stream",
     "text": [
      "The file 'non_existent_file.txt' does not exist.\n"
     ]
    }
   ],
   "source": [
    "\"\"\"\n",
    "How would you handle a case where the file doesn't exist while trying to open it for reading\n",
    "\"\"\"\n",
    "def read_file_safe(filename):\n",
    "    \"\"\"Read a file safely, handling the case where the file doesn't exist.\"\"\"\n",
    "    try:\n",
    "        with open(filename, 'r') as file:\n",
    "            for line in file:\n",
    "                print(line.strip())\n",
    "    except FileNotFoundError:\n",
    "        print(f\"The file '{filename}' does not exist.\")\n",
    "# Example usage\n",
    "read_file_safe('non_existent_file.txt')\n",
    "\n"
   ]
  },
  {
   "cell_type": "code",
   "execution_count": 5,
   "id": "3279d438",
   "metadata": {},
   "outputs": [
    {
     "name": "stdout",
     "output_type": "stream",
     "text": [
      "The file 'source.txt' does not exist.\n"
     ]
    }
   ],
   "source": [
    "\"\"\"\n",
    "Write a Python script that reads from one file and writes its content to another file H\n",
    "\"\"\"\n",
    "def copy_file(source_filename, destination_filename):\n",
    "    \"\"\"Copy the contents of one file to another.\"\"\"\n",
    "    try:\n",
    "        with open(source_filename, 'r') as source_file:\n",
    "            content = source_file.read()\n",
    "        with open(destination_filename, 'w') as dest_file:\n",
    "            dest_file.write(content)\n",
    "        print(f\"Content copied from {source_filename} to {destination_filename}\")\n",
    "    except FileNotFoundError:\n",
    "        print(f\"The file '{source_filename}' does not exist.\")\n",
    "# Example usage\n",
    "copy_file('source.txt', 'destination.txt')\n",
    "\n"
   ]
  },
  {
   "cell_type": "code",
   "execution_count": 6,
   "id": "e7bcc066",
   "metadata": {},
   "outputs": [
    {
     "name": "stdout",
     "output_type": "stream",
     "text": [
      "Error: Division by zero is not allowed.\n",
      "Result of division: None\n"
     ]
    }
   ],
   "source": [
    "\"\"\"\n",
    "How would you catch and handle division by zero error in Python\"\"\"\n",
    "def safe_divide(a, b):\n",
    "    \"\"\"Perform division and handle division by zero error.\"\"\"\n",
    "    try:\n",
    "        result = a / b\n",
    "        return result\n",
    "    except ZeroDivisionError:\n",
    "        print(\"Error: Division by zero is not allowed.\")\n",
    "        return None\n",
    "# Example usage\n",
    "result = safe_divide(10, 0)\n",
    "print(f\"Result of division: {result}\")"
   ]
  },
  {
   "cell_type": "code",
   "execution_count": 7,
   "id": "de08314f",
   "metadata": {},
   "outputs": [],
   "source": [
    "\"\"\"\n",
    "Write a Python program that logs an error message to a log file when a division by zero exception occurs\n",
    "\"\"\"\n",
    "import logging\n",
    "def setup_logging(log_filename):\n",
    "    \"\"\"Set up logging to a file.\"\"\"\n",
    "    logging.basicConfig(filename=log_filename, level=logging.ERROR,\n",
    "                        format='%(asctime)s - %(levelname)s - %(message)s')\n",
    "def log_division_error(a, b):\n",
    "    \"\"\"Perform division and log an error message if division by zero occurs.\"\"\"\n",
    "    try:\n",
    "        result = a / b\n",
    "        return result\n",
    "    except ZeroDivisionError:\n",
    "        logging.error(\"Division by zero error occurred.\")\n",
    "        return None\n",
    "# Example usage\n",
    "setup_logging('error.log')\n",
    "result = log_division_error(10, 0)\n"
   ]
  },
  {
   "cell_type": "code",
   "execution_count": 9,
   "id": "bd13ffef",
   "metadata": {},
   "outputs": [],
   "source": [
    "\"\"\"\n",
    "How do you log information at different levels (INFO, ERROR, WARNING) in Python using the logging module\n",
    "\"\"\"\n",
    "import logging\n",
    "\n",
    "# Configure the logging system\n",
    "logging.basicConfig(level=logging.DEBUG,  # Set minimum level to DEBUG to capture all messages\n",
    "                    format='%(levelname)s:%(message)s')\n",
    "\n",
    "\n"
   ]
  },
  {
   "cell_type": "code",
   "execution_count": 10,
   "id": "2b4ff5ca",
   "metadata": {},
   "outputs": [
    {
     "name": "stdout",
     "output_type": "stream",
     "text": [
      "Error: The file 'non_existent_file.txt' does not exist.\n"
     ]
    }
   ],
   "source": [
    "\"\"\"\n",
    "Write a program to handle a file opening error using exception handling\"\"\"\n",
    "def open_file_safe(filename):\n",
    "    \"\"\"Open a file safely, handling any file opening errors.\"\"\"\n",
    "    try:\n",
    "        with open(filename, 'r') as file:\n",
    "            content = file.read()\n",
    "            print(content)\n",
    "    except FileNotFoundError:\n",
    "        print(f\"Error: The file '{filename}' does not exist.\")\n",
    "# Example usage\n",
    "open_file_safe('non_existent_file.txt')\n",
    "\n"
   ]
  },
  {
   "cell_type": "code",
   "execution_count": 11,
   "id": "278de212",
   "metadata": {},
   "outputs": [
    {
     "name": "stdout",
     "output_type": "stream",
     "text": [
      "Lines read from file: ['Hello, World!']\n"
     ]
    }
   ],
   "source": [
    "\"\"\"\n",
    "How can you read a file line by line and store its content in a list in Python\n",
    "\"\"\"\n",
    "def read_file_to_list(filename):\n",
    "    \"\"\"Read a file line by line and store its content in a list.\"\"\"\n",
    "    lines = []\n",
    "    try:\n",
    "        with open(filename, 'r') as file:\n",
    "            for line in file:\n",
    "                lines.append(line.strip())\n",
    "        return lines\n",
    "    except FileNotFoundError:\n",
    "        print(f\"Error: The file '{filename}' does not exist.\")\n",
    "        return []\n",
    "# Example usage\n",
    "lines = read_file_to_list('example.txt')\n",
    "print(\"Lines read from file:\", lines)\n",
    "\n"
   ]
  },
  {
   "cell_type": "code",
   "execution_count": 12,
   "id": "50b2e857",
   "metadata": {},
   "outputs": [],
   "source": [
    "\"\"\"\n",
    "How can you append data to an existing file in Python\n",
    "\"\"\"\n",
    "def append_to_file(filename, content):\n",
    "    \"\"\"Append data to an existing file.\"\"\"\n",
    "    with open(filename, 'a') as file:\n",
    "        file.write(content + '\\n')\n",
    "# Example usage\n",
    "append_to_file('example.txt', 'This is an appended line.')"
   ]
  },
  {
   "cell_type": "code",
   "execution_count": 13,
   "id": "aee95c64",
   "metadata": {},
   "outputs": [
    {
     "name": "stdout",
     "output_type": "stream",
     "text": [
      "Error: The key 'd' does not exist in the dictionary.\n",
      "Value for key 'd': None\n"
     ]
    }
   ],
   "source": [
    "\"\"\"\n",
    "Write a Python program that uses a try-except block to handle an error when attempting to access a dictionary key that doesn't exist\n",
    "\"\"\"\n",
    "def access_dict_key_safe(dictionary, key):\n",
    "    \"\"\"Access a dictionary key safely, handling the case where the key doesn't exist.\"\"\"\n",
    "    try:\n",
    "        value = dictionary[key]\n",
    "        return value\n",
    "    except KeyError:\n",
    "        print(f\"Error: The key '{key}' does not exist in the dictionary.\")\n",
    "        return None\n",
    "# Example usage\n",
    "my_dict = {'a': 1, 'b': 2, 'c': 3}\n",
    "key_to_access = 'd'\n",
    "value = access_dict_key_safe(my_dict, key_to_access)\n",
    "print(f\"Value for key '{key_to_access}': {value}\")\n",
    "\n"
   ]
  },
  {
   "cell_type": "code",
   "execution_count": 14,
   "id": "52c4c2c4",
   "metadata": {},
   "outputs": [
    {
     "name": "stdout",
     "output_type": "stream",
     "text": [
      "Error: Value cannot be converted to an integer.\n",
      "Converted value: 123\n"
     ]
    }
   ],
   "source": [
    "\"\"\"\n",
    "Write a program that demonstrates using multiple except blocks to handle different types of exceptions\n",
    "\"\"\"\n",
    "def multiple_exceptions_demo(value):\n",
    "    \"\"\"Demonstrate using multiple except blocks to handle different types of exceptions.\"\"\"\n",
    "    try:\n",
    "        # Attempt to convert value to an integer\n",
    "        result = int(value)\n",
    "        print(f\"Converted value: {result}\")\n",
    "    except ValueError:\n",
    "        print(\"Error: Value cannot be converted to an integer.\")\n",
    "    except TypeError:\n",
    "        print(\"Error: Invalid type for conversion.\")\n",
    "    except Exception as e:\n",
    "        print(f\"An unexpected error occurred: {e}\")\n",
    "\n",
    "# Example usage\n",
    "multiple_exceptions_demo(\"abc\")  # This will raise ValueError\n",
    "multiple_exceptions_demo(123)    # This will succeed\n",
    "\n"
   ]
  },
  {
   "cell_type": "code",
   "execution_count": 15,
   "id": "cc353b07",
   "metadata": {},
   "outputs": [
    {
     "name": "stdout",
     "output_type": "stream",
     "text": [
      "The file 'example.txt' exists.\n"
     ]
    },
    {
     "data": {
      "text/plain": [
       "True"
      ]
     },
     "execution_count": 15,
     "metadata": {},
     "output_type": "execute_result"
    }
   ],
   "source": [
    "\"\"\"\n",
    "How would you check if a file exists before attempting to read it in Python\n",
    "\"\"\"\n",
    "import os\n",
    "def file_exists(filename):\n",
    "    \"\"\"Check if a file exists before attempting to read it.\"\"\"\n",
    "    if os.path.exists(filename):\n",
    "        print(f\"The file '{filename}' exists.\")\n",
    "        return True\n",
    "    else:\n",
    "        print(f\"The file '{filename}' does not exist.\")\n",
    "        return False\n",
    "# Example usage\n",
    "file_exists('example.txt')  # Check if 'example.txt' exists\n"
   ]
  },
  {
   "cell_type": "code",
   "execution_count": 16,
   "id": "325bc337",
   "metadata": {},
   "outputs": [],
   "source": [
    "\"\"\"\n",
    "Write a program that uses the logging module to log both informational and error messages\n",
    "\"\"\"\n",
    "def log_info_and_error():\n",
    "    \"\"\"Log both informational and error messages using the logging module.\"\"\"\n",
    "    logging.basicConfig(level=logging.DEBUG, format='%(levelname)s:%(message)s')\n",
    "    \n",
    "    logging.info(\"This is an informational message.\")\n",
    "    \n",
    "    try:\n",
    "        result = 10 / 0  # This will raise a ZeroDivisionError\n",
    "    except ZeroDivisionError:\n",
    "        logging.error(\"An error occurred: Division by zero.\")\n",
    "# Example usage\n",
    "log_info_and_error()\n",
    "\n"
   ]
  },
  {
   "cell_type": "code",
   "execution_count": 17,
   "id": "06e2dd12",
   "metadata": {},
   "outputs": [
    {
     "name": "stdout",
     "output_type": "stream",
     "text": [
      "File content:\n",
      "Hello, World!This is an appended line.\n",
      "\n"
     ]
    }
   ],
   "source": [
    "\"\"\"\n",
    "Write a Python program that prints the content of a file and handles the case when the file is empty\n",
    "\"\"\"\n",
    "def print_file_content(filename):\n",
    "    \"\"\"Print the content of a file and handle the case when the file is empty.\"\"\"\n",
    "    try:\n",
    "        with open(filename, 'r') as file:\n",
    "            content = file.read()\n",
    "            if not content:\n",
    "                print(\"The file is empty.\")\n",
    "            else:\n",
    "                print(\"File content:\")\n",
    "                print(content)\n",
    "    except FileNotFoundError:\n",
    "        print(f\"Error: The file '{filename}' does not exist.\")\n",
    "\n",
    "# Example usage\n",
    "print_file_content('example.txt')  # Check the content of 'example.txt'"
   ]
  },
  {
   "cell_type": "code",
   "execution_count": 18,
   "id": "28c63642",
   "metadata": {},
   "outputs": [
    {
     "name": "stdout",
     "output_type": "stream",
     "text": [
      "List created with 10,000 integers.\n",
      "Current memory usage: 352.88 KB\n",
      "Peak memory usage: 352.94 KB\n"
     ]
    }
   ],
   "source": [
    "\"\"\"\n",
    "Demonstrate how to use memory profiling to check the memory usage of a small program\n",
    "\"\"\"\n",
    "import tracemalloc\n",
    "def memory_profiling_demo():\n",
    "    \"\"\"Demonstrate memory profiling using tracemalloc.\"\"\"\n",
    "    tracemalloc.start()  # Start tracing memory allocations\n",
    "\n",
    "    # Example code to profile\n",
    "    my_list = [i for i in range(10000)]  # Create a list of 10,000 integers\n",
    "    print(\"List created with 10,000 integers.\")\n",
    "\n",
    "    current, peak = tracemalloc.get_traced_memory()  # Get current and peak memory usage\n",
    "    print(f\"Current memory usage: {current / 1024:.2f} KB\")\n",
    "    print(f\"Peak memory usage: {peak / 1024:.2f} KB\")\n",
    "\n",
    "    tracemalloc.stop()  # Stop tracing memory allocations\n",
    "# Example usage\n",
    "memory_profiling_demo()\n",
    "\n"
   ]
  },
  {
   "cell_type": "code",
   "execution_count": 19,
   "id": "d3e0d02a",
   "metadata": {},
   "outputs": [],
   "source": [
    "\"\"\"\n",
    "Write a Python program to create and write a list of numbers to a file, one number per line\n",
    "\"\"\"\n",
    "def write_numbers_to_file(filename, numbers):\n",
    "    \"\"\"Write a list of numbers to a file, one number per line.\"\"\"\n",
    "    with open(filename, 'w') as file:\n",
    "        for number in numbers:\n",
    "            file.write(f\"{number}\\n\")\n",
    "# Example usage\n",
    "write_numbers_to_file('numbers.txt', [1, 2, 3, 4, 5])"
   ]
  },
  {
   "cell_type": "code",
   "execution_count": 20,
   "id": "7e1f1756",
   "metadata": {},
   "outputs": [],
   "source": [
    "\"\"\"\n",
    "How would you implement a basic logging setup that logs to a file with rotation after 1MB\n",
    "\"\"\"\n",
    "import logging\n",
    "from logging.handlers import RotatingFileHandler\n",
    "def setup_rotating_logging(log_filename):\n",
    "    \"\"\"Set up basic logging with file rotation after 1MB.\"\"\"\n",
    "    handler = RotatingFileHandler(log_filename, maxBytes=1e6, backupCount=5)  # 1MB = 1e6 bytes\n",
    "    handler.setLevel(logging.DEBUG)\n",
    "    \n",
    "    formatter = logging.Formatter('%(asctime)s - %(levelname)s - %(message)s')\n",
    "    handler.setFormatter(formatter)\n",
    "    \n",
    "    logger = logging.getLogger()\n",
    "    logger.setLevel(logging.DEBUG)\n",
    "    logger.addHandler(handler)\n",
    "# Example usage\n",
    "setup_rotating_logging('rotating_log.log')\n",
    "\n"
   ]
  },
  {
   "cell_type": "code",
   "execution_count": 21,
   "id": "a70edb54",
   "metadata": {},
   "outputs": [
    {
     "name": "stdout",
     "output_type": "stream",
     "text": [
      "Error: Index 5 is out of range for the list.\n",
      "Error: The key 'd' does not exist in the dictionary.\n"
     ]
    }
   ],
   "source": [
    "\"\"\"\n",
    "Write a program that handles both IndexError and KeyError using a try-except block\n",
    "\"\"\"\n",
    "def handle_index_and_key_error(my_list, my_dict, index, key):\n",
    "    \"\"\"Handle both IndexError and KeyError using a try-except block.\"\"\"\n",
    "    try:\n",
    "        value_from_list = my_list[index]\n",
    "        print(f\"Value from list at index {index}: {value_from_list}\")\n",
    "    except IndexError:\n",
    "        print(f\"Error: Index {index} is out of range for the list.\")\n",
    "\n",
    "    try:\n",
    "        value_from_dict = my_dict[key]\n",
    "        print(f\"Value from dictionary for key '{key}': {value_from_dict}\")\n",
    "    except KeyError:\n",
    "        print(f\"Error: The key '{key}' does not exist in the dictionary.\")\n",
    "# Example usage\n",
    "my_list = [1, 2, 3]\n",
    "my_dict = {'a': 1, 'b': 2, 'c': 3}\n",
    "handle_index_and_key_error(my_list, my_dict, 5, 'd')  # This will raise IndexError and KeyError"
   ]
  },
  {
   "cell_type": "code",
   "execution_count": 22,
   "id": "86e679a6",
   "metadata": {},
   "outputs": [
    {
     "name": "stdout",
     "output_type": "stream",
     "text": [
      "File content:\n",
      "Hello, World!This is an appended line.\n",
      "\n"
     ]
    }
   ],
   "source": [
    "\"\"\"\n",
    "How would you open a file and read its contents using a context manager in Python\n",
    "\"\"\"\n",
    "def read_file_with_context_manager(filename):\n",
    "    \"\"\"Open a file and read its contents using a context manager.\"\"\"\n",
    "    try:\n",
    "        with open(filename, 'r') as file:\n",
    "            content = file.read()\n",
    "            print(\"File content:\")\n",
    "            print(content)\n",
    "    except FileNotFoundError:\n",
    "        print(f\"Error: The file '{filename}' does not exist.\")\n",
    "# Example usage\n",
    "read_file_with_context_manager('example.txt')  # Check the content of 'example.txt'"
   ]
  },
  {
   "cell_type": "code",
   "execution_count": 23,
   "id": "257cb217",
   "metadata": {},
   "outputs": [
    {
     "name": "stdout",
     "output_type": "stream",
     "text": [
      "The word 'hello' occurs 1 times in the file 'example.txt'.\n"
     ]
    }
   ],
   "source": [
    "\"\"\"\n",
    "Write a Python program that reads a file and prints the number of occurrences of a specific word\n",
    "\"\"\"\n",
    "def count_word_in_file(filename, word):\n",
    "    \"\"\"Read a file and print the number of occurrences of a specific word.\"\"\"\n",
    "    try:\n",
    "        with open(filename, 'r') as file:\n",
    "            content = file.read()\n",
    "            word_count = content.lower().count(word.lower())\n",
    "            print(f\"The word '{word}' occurs {word_count} times in the file '{filename}'.\")\n",
    "    except FileNotFoundError:\n",
    "        print(f\"Error: The file '{filename}' does not exist.\")\n",
    "# Example usage\n",
    "count_word_in_file('example.txt', 'hello')  # Count occurrences of 'hello' in 'example.txt'\n",
    "\n"
   ]
  },
  {
   "cell_type": "code",
   "execution_count": 24,
   "id": "e98540ad",
   "metadata": {},
   "outputs": [
    {
     "name": "stdout",
     "output_type": "stream",
     "text": [
      "The file 'example.txt' is not empty.\n"
     ]
    },
    {
     "data": {
      "text/plain": [
       "False"
      ]
     },
     "execution_count": 24,
     "metadata": {},
     "output_type": "execute_result"
    }
   ],
   "source": [
    "\"\"\"\n",
    "How can you check if a file is empty before attempting to read its contents\n",
    "\"\"\"\n",
    "import os\n",
    "def is_file_empty(filename):\n",
    "    \"\"\"Check if a file is empty before attempting to read its contents.\"\"\"\n",
    "    if os.path.exists(filename):\n",
    "        if os.path.getsize(filename) == 0:\n",
    "            print(f\"The file '{filename}' is empty.\")\n",
    "            return True\n",
    "        else:\n",
    "            print(f\"The file '{filename}' is not empty.\")\n",
    "            return False\n",
    "    else:\n",
    "        print(f\"The file '{filename}' does not exist.\")\n",
    "        return None\n",
    "# Example usage\n",
    "is_file_empty('example.txt')  # Check if 'example.txt' is empty"
   ]
  },
  {
   "cell_type": "code",
   "execution_count": 25,
   "id": "5208136b",
   "metadata": {},
   "outputs": [],
   "source": [
    "\"\"\"\n",
    "Write a Python program that writes to a log file when an error occurs during file handling\n",
    "\"\"\"\n",
    "def log_file_handling_error(log_filename, error_message):\n",
    "    \"\"\"Write to a log file when an error occurs during file handling.\"\"\"\n",
    "    logging.basicConfig(filename=log_filename, level=logging.ERROR,\n",
    "                        format='%(asctime)s - %(levelname)s - %(message)s')\n",
    "    logging.error(error_message)\n",
    "# Example usage\n",
    "log_file_handling_error('file_handling_errors.log', 'An error occurred while handling the file.')"
   ]
  },
  {
   "cell_type": "code",
   "execution_count": null,
   "id": "aa632c47",
   "metadata": {},
   "outputs": [],
   "source": []
  }
 ],
 "metadata": {
  "kernelspec": {
   "display_name": "base",
   "language": "python",
   "name": "python3"
  },
  "language_info": {
   "codemirror_mode": {
    "name": "ipython",
    "version": 3
   },
   "file_extension": ".py",
   "mimetype": "text/x-python",
   "name": "python",
   "nbconvert_exporter": "python",
   "pygments_lexer": "ipython3",
   "version": "3.8.8"
  }
 },
 "nbformat": 4,
 "nbformat_minor": 5
}
