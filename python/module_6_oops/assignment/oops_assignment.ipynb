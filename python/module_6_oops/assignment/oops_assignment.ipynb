{
 "cells": [
  {
   "cell_type": "markdown",
   "id": "078115d5",
   "metadata": {},
   "source": [
    "# Theory Questions"
   ]
  },
  {
   "cell_type": "markdown",
   "id": "405f2a55",
   "metadata": {},
   "source": [
    "1. What is Object-Oriented Programming (OOP) ?\n",
    "    - Object-Oriented Programming (OOP) is a programming paradigm based on the concept of \"objects\", which can contain data (in the form of fields or attributes) and code (in the form of methods or functions).\n",
    "2. What is a class in OOP ?\n",
    "    - A class in Object-Oriented Programming (OOP) is a blueprint or template for creating objects. It defines the properties (attributes) and behaviors (methods) that the created objects will have.\n",
    "3. What is an object in OOP ?\n",
    "    - In Object-Oriented Programming (OOP), an object is a real-world entity created from a class. It represents a specific instance of the class and contains data (attributes) and behavior (methods).\n",
    "4. What is the difference between abstraction and encapsulation ?\n",
    "    - Abstraction is the concept of hiding complex implementation details and showing only the necessary features of an object or system.\n",
    "    - Encapsulation is the technique of binding data and methods that work on that data into a single unit (class) and restricting direct access to some of the object’s components.\n",
    "5. What are dunder methods in Python ?\n",
    "    - Dunder methods in Python — short for \"double underscore\" methods — are special methods that have double underscores before and after their names (like __init__, __str__, __len__, etc.).\n",
    "    - They allow you to customize how your objects behave with built-in Python operations (like printing, adding, comparing, or converting to string).\n",
    "6. Explain the concept of inheritance in OOP ?\n",
    "    - Inheritance is one of the core principles of Object-Oriented Programming (OOP). It allows a class (called a child class or subclass) to inherit properties and behaviors (methods and attributes) from another class (called a parent class or superclass).\n",
    "7. What is polymorphism in OOP ?\n",
    "    - Polymorphism in Object-Oriented Programming (OOP) means \"many forms.\" It allows objects of different classes to be treated as if they are of the same class through a shared interface, while each object can behave differently when a common method is called.\n",
    "8. How is encapsulation achieved in Python ?\n",
    "    - Encapsulation in Python is achieved by restricting direct access to the internal data (attributes) and providing controlled access through methods (like getters and setters). This helps protect the integrity of an object's state.\n",
    "9. What is a constructor in Python ?\n",
    "    - In Python, a constructor is a special method called __init__ that is automatically invoked when a new object of a class is created. It’s used to initialize the object's attributes (i.e., set up its initial state).\n",
    "\n",
    "10. What are class and static methods in Python ?\n",
    "    - In Python, class methods and static methods are two special types of methods that behave differently from regular instance methods. They are used when you need to operate on the class itself rather than on individual instances.\n",
    "11. What is method overloading in Python ?\n",
    "    - ethod overloading generally means having multiple methods with the same name but different parameters (different type or number of arguments) within the same class. \n",
    "12. What is method overriding in OOP ?\n",
    "    - Method overriding is a fundamental concept in Object-Oriented Programming (OOP) where a child class provides a specific implementation of a method that is already defined in its parent class.\n",
    "13. What is a property decorator in Python ?\n",
    "    - The @property decorator in Python is a built-in way to define methods that behave like attributes — it lets you access a method like it’s a regular attribute, without needing to call it with par\n",
    "14. Why is polymorphism important in OOP ?\n",
    "    - Polymorphism is super important in Object-Oriented Programming (OOP) because it lets you write flexible, reusable, and scalable code. Here’s why it matters:\n",
    "        1. Code Generalization and Reusability\n",
    "        2. Extensibility\n",
    "        3. Simplifies Code Maintenance\n",
    "        4. Supports Dynamic Method Binding\n",
    "15. What is an abstract class in Python ?\n",
    "    - abstract class in Python is a class that cannot be instantiated on its own and is meant to be subclassed. It often defines abstract methods that must be implemented by any subclass. Abstract classes are used to provide a common interface and base functionality while enforcing certain methods to be overridden.\n",
    "16. What are the advantages of OOP ?\n",
    "    - Modularity\n",
    "    - Reusability\n",
    "    - Scalability and Maintainability\n",
    "    - Encapsulation\n",
    "    - Abstraction\n",
    "    - Polymorphism\n",
    "    -  Improved Productivity\n",
    "    - Real-world Modeling\n",
    "17. What is multiple inheritance in Python ?\n",
    "    - Multiple inheritance in Python is a feature where a class can inherit attributes and methods from more than one parent class.\n",
    "\n",
    "18. What is the difference between a class variable and an instance variable ?\n",
    "    -  Class Variable\n",
    "        - A variable that is shared by all instances of a class. Inside the class but outside any methods. Stores data that is common to all objects of the class. Can be accessed using the class name or an instance.\n",
    "    - Instance Variable\n",
    "        - Definition: A variable that is unique to each instance (object) of the class.\n",
    "        - Where it's defined: Inside methods, usually in __init__ using self.\n",
    "        - Purpose: Stores data specific to each object.\n",
    "        - Access: Accessed via the instance only.\n",
    "19. Explain the purpose of ‘’__str__’ and ‘__repr__’ ‘ methods in Python ?\n",
    "    - Both __str__ and __repr__ are special (\"dunder\") methods in Python used to provide string representations of objects, but they serve slightly different purposes.\n",
    "20. What is the significance of the ‘super()’ function in Python ?\n",
    "    - The super() function in Python is used to call methods from a parent (or superclass) inside a subclass. It helps you access and extend inherited behavior without explicitly naming the parent class.\n",
    "21. What is the significance of the __del__ method in Python ?\n",
    "    - The __del__ method in Python is known as a destructor. It is a special method that gets called when an object is about to be destroyed (i.e., garbage collected).\n",
    "22. What is the difference between @staticmethod and @classmethod in Python ?\n",
    "    -  @staticmethod\n",
    "        - Does not take self or cls as the first parameter.\n",
    "        behaves like a regular function inside a class — no access to instance (self) or class (cls) data.\n",
    "        Used for utility functions that don’t modify or access instance or class state. Can be called via the class or an instance.\n",
    "    - @classmethod\n",
    "        - Takes cls (the class itself) as the first parameter instead of self.\n",
    "        Can access and modify class state that applies across all instances.\n",
    "        Used when you want to work with the class itself, not a particular instance. Often used for factory methods or alternative constructors.\n",
    "23. How does polymorphism work in Python with inheritance ?\n",
    "    - Polymorphism in Python, especially with inheritance, means that different classes can define methods with the same name, and when you call that method on an object, the correct version (the one belonging to the object's class) is automatically used.\n",
    "24. What is method chaining in Python OOP ?\n",
    "    - Method chaining in Python OOP is a technique where multiple method calls are linked together in a single expression, one after another, using the dot (.) operator. Each method returns the object itself (self), allowing the next method to be called on the same - object seamlessly.\n",
    "25. What is the purpose of the __call__ method in Python?\n",
    "    - The __call__ method in Python is a special (“dunder”) method that allows an instance of a class to be called like a function."
   ]
  },
  {
   "cell_type": "markdown",
   "id": "d3719a4c",
   "metadata": {},
   "source": [
    "# Practical questions"
   ]
  },
  {
   "cell_type": "code",
   "execution_count": 2,
   "id": "44d33173",
   "metadata": {},
   "outputs": [
    {
     "name": "stdout",
     "output_type": "stream",
     "text": [
      "Bark!\n"
     ]
    }
   ],
   "source": [
    "\"\"\"\n",
    "1. Create a parent class Animal with a method speak() that prints a generic message. Create a child class Dog that overrides the speak() method to print \"Bark!\".\n",
    "\"\"\"\n",
    "class Animal:\n",
    "    def speak(self):\n",
    "        print(\"This animal makes a sound.\")\n",
    "class Dog(Animal):\n",
    "    def speak(self):\n",
    "        print(\"Bark!\")\n",
    "# Example usage\n",
    "a = Dog()\n",
    "a.speak() "
   ]
  },
  {
   "cell_type": "code",
   "execution_count": 3,
   "id": "4c1403fe",
   "metadata": {},
   "outputs": [
    {
     "name": "stdout",
     "output_type": "stream",
     "text": [
      "Circle area: 78.5\n"
     ]
    }
   ],
   "source": [
    "\"\"\"\n",
    "2. Write a program to create an abstract class Shape with a method area(). Derive classes Circle and Rectangle from it and implement the area() method in both.\n",
    "\"\"\"\n",
    "from abc import ABC, abstractmethod\n",
    "class Shape(ABC):\n",
    "    @abstractmethod\n",
    "    def area(self):\n",
    "        pass\n",
    "class Circle(Shape):\n",
    "    def __init__(self, radius):\n",
    "        self.radius = radius\n",
    "    def area(self):\n",
    "        return 3.14 * self.radius ** 2\n",
    "c = Circle(5)\n",
    "print(f\"Circle area: {c.area()}\")"
   ]
  },
  {
   "cell_type": "code",
   "execution_count": 4,
   "metadata": {},
   "outputs": [
    {
     "name": "stdout",
     "output_type": "stream",
     "text": [
      "Vehicle type: Sedan, Battery: 100kWh\n"
     ]
    }
   ],
   "source": [
    "\"\"\"\n",
    "3. Implement a multi-level inheritance scenario where a class Vehicle has an attribute type. Derive a class Car and further derive a class ElectricCar that adds a battery attribute.\n",
    "\"\"\"\n",
    "class Vehicle:\n",
    "    def __init__(self, type):\n",
    "        self.type = type\n",
    "class Car(Vehicle):\n",
    "    pass\n",
    "class ElectricCar(Car):\n",
    "    def __init__(self, type, battery):\n",
    "        super().__init__(type)\n",
    "        self.battery = battery\n",
    "# Example usage\n",
    "v = ElectricCar(\"Sedan\", \"100kWh\")\n",
    "print(f\"Vehicle type: {v.type}, Battery: {v.battery}\")"
   ]
  },
  {
   "cell_type": "code",
   "execution_count": 6,
   "id": "aa97faed",
   "metadata": {},
   "outputs": [
    {
     "name": "stdout",
     "output_type": "stream",
     "text": [
      "Sparrow flies high in the sky.\n"
     ]
    }
   ],
   "source": [
    "\"\"\"\n",
    "4. Demonstrate polymorphism by creating a base class Bird with a method fly(). Create two derived classes Sparrow and Penguin that override the fly() method. \n",
    "\"\"\"\n",
    "class Bird:\n",
    "    def fly(self):\n",
    "        print(\"This bird can fly.\")\n",
    "class Sparrow(Bird):\n",
    "    def fly(self):\n",
    "        print(\"Sparrow flies high in the sky.\")\n",
    "class Penguin(Bird):\n",
    "    def fly(self):\n",
    "        print(\"Penguins cannot fly.\")\n",
    "# Example usage\n",
    "P = Sparrow()\n",
    "P.fly()"
   ]
  },
  {
   "cell_type": "code",
   "execution_count": 7,
   "metadata": {},
   "outputs": [
    {
     "name": "stdout",
     "output_type": "stream",
     "text": [
      "Deposited: 100, New Balance: 100.0\n",
      "Withdrew: 30, New Balance: 70.0\n",
      "Current Balance: 70.0\n"
     ]
    }
   ],
   "source": [
    "\"\"\"\n",
    "5. Write a program to demonstrate encapsulation by creating a class BankAccount with private attributes balance and methods to deposit, withdraw, and check balance.\n",
    "\"\"\"\n",
    "class BankAccount:\n",
    "    def __init__(self):\n",
    "        self.__balance = 0.0  # Private attribute\n",
    "\n",
    "    def deposit(self, amount):\n",
    "        if amount > 0:\n",
    "            self.__balance += amount\n",
    "            print(f\"Deposited: {amount}, New Balance: {self.__balance}\")\n",
    "        else:\n",
    "            print(\"Deposit amount must be positive.\")\n",
    "\n",
    "    def withdraw(self, amount):\n",
    "        if 0 < amount <= self.__balance:\n",
    "            self.__balance -= amount\n",
    "            print(f\"Withdrew: {amount}, New Balance: {self.__balance}\")\n",
    "        else:\n",
    "            print(\"Invalid withdrawal amount.\")\n",
    "\n",
    "    def check_balance(self):\n",
    "        return self.__balance\n",
    "# Example usage\n",
    "account = BankAccount()\n",
    "account.deposit(100)\n",
    "account.withdraw(30)\n",
    "print(f\"Current Balance: {account.check_balance()}\")\n"
   ]
  },
  {
   "cell_type": "code",
   "execution_count": 8,
   "id": "abd863df",
   "metadata": {},
   "outputs": [
    {
     "name": "stdout",
     "output_type": "stream",
     "text": [
      "Playing the piano.\n"
     ]
    }
   ],
   "source": [
    "\"\"\"\n",
    "6. Demonstrate runtime polymorphism using a method play() in a base class Instrument. Derive classes Guitar and Piano that implement their own version of play().\n",
    "\"\"\"\n",
    "class Instrument:\n",
    "    def play(self):\n",
    "        print(\"Playing an instrument.\")\n",
    "class Guitar(Instrument):\n",
    "    def play(self):\n",
    "        print(\"Strumming the guitar.\")\n",
    "class Piano(Instrument):\n",
    "    def play(self):\n",
    "        print(\"Playing the piano.\")\n",
    "# Example usage\n",
    "piano = Piano()\n",
    "piano.play()"
   ]
  },
  {
   "cell_type": "code",
   "execution_count": 10,
   "metadata": {},
   "outputs": [
    {
     "name": "stdout",
     "output_type": "stream",
     "text": [
      "Addition Result: 15\n",
      "Subtraction Result: 5\n"
     ]
    }
   ],
   "source": [
    "\"\"\"\n",
    " Create a class MathOperations with a class method add_numbers() to add two numbers and a static method subtract_numbers() to subtract two numbers.\n",
    " \"\"\"\n",
    "class MathOperations:\n",
    "    @classmethod\n",
    "    def add_numbers(cls, a, b):\n",
    "        return a + b\n",
    "\n",
    "    @staticmethod\n",
    "    def subtract_numbers(a, b):\n",
    "        return a - b\n",
    "# Example usage\n",
    "result_add = MathOperations.add_numbers(10, 5)\n",
    "result_subtract = MathOperations.subtract_numbers(10, 5)\n",
    "print(f\"Addition Result: {result_add}\")\n",
    "print(f\"Subtraction Result: {result_subtract}\")\n",
    "\n"
   ]
  },
  {
   "cell_type": "code",
   "execution_count": null,
   "id": "90fa80fd",
   "metadata": {},
   "outputs": [
    {
     "name": "stdout",
     "output_type": "stream",
     "text": [
      "Total persons created: 2\n"
     ]
    }
   ],
   "source": [
    "\"\"\"\n",
    "8. Implement a class Person with a class method to count the total number of persons created.\n",
    "\"\"\"\n",
    "class Person:\n",
    "    count = 0  # Class variable to keep track of the number of persons\n",
    "    def __init__(self, name):\n",
    "        self.name = name\n",
    "        Person.count += 1  # Increment count when a new person is created\n",
    "\n",
    "    @classmethod\n",
    "    def total_persons(cls):\n",
    "        return cls.count\n",
    "# Example usage\n",
    "p1 = Person(\"Alice\")\n",
    "p2 = Person(\"Bob\")\n",
    "print(f\"Total persons created: {Person.total_persons()}\")  # Output: Total persons created: 2\n"
   ]
  },
  {
   "cell_type": "code",
   "execution_count": 18,
   "id": "2cb1b6e1",
   "metadata": {},
   "outputs": [
    {
     "name": "stdout",
     "output_type": "stream",
     "text": [
      "Fraction: 3/4\n"
     ]
    }
   ],
   "source": [
    "\"\"\"\n",
    "9. Write a class Fraction with attributes numerator and denominator. Override the str method to display the fraction as numerator/denominator\n",
    "\n",
    "\"\"\"\n",
    "class Fraction:\n",
    "    def __init__(self, numerator, denominator):\n",
    "        self.numerator = numerator\n",
    "        self.denominator = denominator\n",
    "\n",
    "    def __str__(self):\n",
    "        return f\"{self.numerator}/{self.denominator}\"\n",
    "# Example usage\n",
    "fraction = Fraction(3, 4)\n",
    "print(f\"Fraction: {fraction}\")  # Output: Fraction: 3/4\n"
   ]
  },
  {
   "cell_type": "code",
   "execution_count": 20,
   "id": "44e940e0",
   "metadata": {},
   "outputs": [
    {
     "name": "stdout",
     "output_type": "stream",
     "text": [
      "Result of vector addition: Vector(7, 10)\n"
     ]
    }
   ],
   "source": [
    "\"\"\"\n",
    "10. Demonstrate operator overloading by creating a class Vector and overriding the add method to add two vectors.\n",
    "\"\"\"\n",
    "class Vector:\n",
    "    def __init__(self, x, y):\n",
    "        self.x = x\n",
    "        self.y = y\n",
    "\n",
    "    def __add__(self, other):\n",
    "        return Vector(self.x + other.x, self.y + other.y)\n",
    "\n",
    "    def __str__(self):\n",
    "        return f\"Vector({self.x}, {self.y})\"\n",
    "# Example usage\n",
    "v1 = Vector(2, 3)\n",
    "v2 = Vector(5, 7)\n",
    "v3 = v1 + v2\n",
    "print(f\"Result of vector addition: {v3}\")  # Output: Result of vector addition: Vector(7, 10)"
   ]
  },
  {
   "cell_type": "code",
   "execution_count": 23,
   "id": "8f20f774",
   "metadata": {},
   "outputs": [
    {
     "name": "stdout",
     "output_type": "stream",
     "text": [
      "Hello, my name is John and I am 30 years old.\n"
     ]
    }
   ],
   "source": [
    "\"\"\"\n",
    "11. Create a class Person with attributes name and age. Add a method greet() that prints Hello, my name is {name} and I am {age} years old.\n",
    "\"\"\"\n",
    "class Person:\n",
    "    def __init__(self, name, age):\n",
    "        self.name = name\n",
    "        self.age = age\n",
    "\n",
    "    def greet(self):\n",
    "        print(f\"Hello, my name is {self.name} and I am {self.age} years old.\")\n",
    "# Example usage\n",
    "p = Person(\"John\", 30)\n",
    "p.greet()  # Output: Hello, my name is John and I am 30 years old."
   ]
  },
  {
   "cell_type": "code",
   "execution_count": null,
   "metadata": {},
   "outputs": [
    {
     "name": "stdout",
     "output_type": "stream",
     "text": [
      "Average grade for Alice: 84.33333333333333\n"
     ]
    }
   ],
   "source": [
    "\"\"\"\n",
    "12. Implement a class Student with attributes name and grades. Create a method average_grade() to compute the average of the grades.\n",
    "\"\"\"\n",
    "class Student:\n",
    "    def __init__(self, name, grades):\n",
    "        self.name = name\n",
    "        self.grades = grades\n",
    "\n",
    "    def average_grade(self):\n",
    "        return sum(self.grades) / len(self.grades) if self.grades else 0\n",
    "# Example usage\n",
    "s = Student(\"Alice\", [85, 90, 78])\n",
    "print(f\"Average grade for {s.name}: {s.average_grade()}\")  "
   ]
  },
  {
   "cell_type": "code",
   "execution_count": 26,
   "id": "f8736263",
   "metadata": {},
   "outputs": [
    {
     "name": "stdout",
     "output_type": "stream",
     "text": [
      "Area of rectangle: 50\n"
     ]
    }
   ],
   "source": [
    "\"\"\"\n",
    "13. Create a class Rectangle with methods set_dimensions() to set the dimensions and area() to calculate the area.\n",
    "\"\"\"\n",
    "class Rectangle:\n",
    "    def __init__(self):\n",
    "        self.width = 0\n",
    "        self.height = 0\n",
    "\n",
    "    def set_dimensions(self, width, height):\n",
    "        self.width = width\n",
    "        self.height = height\n",
    "\n",
    "    def area(self):\n",
    "        return self.width * self.height\n",
    "# Example usage\n",
    "r = Rectangle()\n",
    "r.set_dimensions(5, 10)\n",
    "print(f\"Area of rectangle: {r.area()}\")  # Output: Area of rectangle: 50\n",
    "\n"
   ]
  },
  {
   "cell_type": "code",
   "execution_count": 28,
   "metadata": {},
   "outputs": [
    {
     "name": "stdout",
     "output_type": "stream",
     "text": [
      "Employee salary: 800\n",
      "Manager salary: 1000\n"
     ]
    }
   ],
   "source": [
    "\"\"\"\n",
    "14. Create a class Employee with a method calculate_salary() that computes the salary based on hours worked and hourly rate. Create a derived class Manager that adds a bonus to the salary.\n",
    "\"\"\"\n",
    "class Employee:\n",
    "    def __init__(self, hours_worked, hourly_rate):\n",
    "        self.hours_worked = hours_worked\n",
    "        self.hourly_rate = hourly_rate\n",
    "\n",
    "    def calculate_salary(self):\n",
    "        return self.hours_worked * self.hourly_rate\n",
    "class Manager(Employee):\n",
    "    def __init__(self, hours_worked, hourly_rate, bonus):\n",
    "        super().__init__(hours_worked, hourly_rate)\n",
    "        self.bonus = bonus\n",
    "\n",
    "    def calculate_salary(self):\n",
    "        return super().calculate_salary() + self.bonus\n",
    "# Example usage\n",
    "emp = Employee(40, 20)\n",
    "print(f\"Employee salary: {emp.calculate_salary()}\")  # Output: Employee salary: 800\n",
    "mgr = Manager(40, 20, 200)\n",
    "print(f\"Manager salary: {mgr.calculate_salary()}\")  # Output: Manager salary: 1000\n"
   ]
  },
  {
   "cell_type": "code",
   "execution_count": 29,
   "metadata": {},
   "outputs": [
    {
     "name": "stdout",
     "output_type": "stream",
     "text": [
      "Total price of Laptop: 2000\n"
     ]
    }
   ],
   "source": [
    "\"\"\"\n",
    "15. Create a class Product with attributes name, price, and quantity. Implement a method total_price() that calculates the total price of the product.\n",
    "\"\"\"\n",
    "class Product:\n",
    "    def __init__(self, name, price, quantity):\n",
    "        self.name = name\n",
    "        self.price = price\n",
    "        self.quantity = quantity\n",
    "\n",
    "    def total_price(self):\n",
    "        return self.price * self.quantity\n",
    "# Example usage\n",
    "p = Product(\"Laptop\", 1000, 2)\n",
    "print(f\"Total price of {p.name}: {p.total_price()}\")  # Output: Total price of Laptop: 2000"
   ]
  },
  {
   "cell_type": "code",
   "execution_count": 31,
   "id": "de0bee25",
   "metadata": {},
   "outputs": [
    {
     "name": "stdout",
     "output_type": "stream",
     "text": [
      "The animal makes a sound: Moo\n",
      "The animal makes a sound: Baa\n"
     ]
    }
   ],
   "source": [
    "\"\"\"\n",
    "6. Create a class Animal with an abstract method sound(). Create two derived classes Cow and Sheep that implement the sound() method\n",
    "\"\"\"\n",
    "from abc import ABC, abstractmethod\n",
    "class Animal(ABC):\n",
    "    @abstractmethod\n",
    "    def sound(self):\n",
    "        pass\n",
    "class Cow(Animal):\n",
    "    def sound(self):\n",
    "        return \"Moo\"\n",
    "class Sheep(Animal):\n",
    "    def sound(self):\n",
    "        return \"Baa\"\n",
    "\n",
    "cow = Cow()\n",
    "sheep = Sheep()\n",
    "animal_sound(cow)  # Output: The animal makes a sound: Moo\n",
    "animal_sound(sheep)  # Output: The animal makes a sound: Baa"
   ]
  },
  {
   "cell_type": "code",
   "execution_count": 32,
   "id": "02cc24ec",
   "metadata": {},
   "outputs": [
    {
     "name": "stdout",
     "output_type": "stream",
     "text": [
      "'1984' by George Orwell, published in 1949\n"
     ]
    }
   ],
   "source": [
    "\"\"\"\n",
    "17. Create a class Book with attributes title, author, and year_published. Add a method get_book_info() that returns a formatted string with the book's details.\n",
    "\n",
    "\"\"\"\n",
    "class Book:\n",
    "    def __init__(self, title, author, year_published):\n",
    "        self.title = title\n",
    "        self.author = author\n",
    "        self.year_published = year_published\n",
    "\n",
    "    def get_book_info(self):\n",
    "        return f\"'{self.title}' by {self.author}, published in {self.year_published}\"\n",
    "# Example usage\n",
    "book = Book(\"1984\", \"George Orwell\", 1949)\n",
    "print(book.get_book_info())  # Output: '1984' by George Orwell, published in 1949"
   ]
  },
  {
   "cell_type": "code",
   "execution_count": 33,
   "id": "1c18ba80",
   "metadata": {},
   "outputs": [
    {
     "name": "stdout",
     "output_type": "stream",
     "text": [
      "Mansion at 123 Luxury St, Price: 1000000, Rooms: 10\n"
     ]
    }
   ],
   "source": [
    "\"\"\"\n",
    "18. Create a class House with attributes address and price. Create a derived class Mansion that adds an attribute number_of_rooms.\n",
    "\"\"\"\n",
    "class House:\n",
    "    def __init__(self, address, price):\n",
    "        self.address = address\n",
    "        self.price = price\n",
    "class Mansion(House):\n",
    "    def __init__(self, address, price, number_of_rooms):\n",
    "        super().__init__(address, price)\n",
    "        self.number_of_rooms = number_of_rooms\n",
    "\n",
    "    def get_details(self):\n",
    "        return f\"Mansion at {self.address}, Price: {self.price}, Rooms: {self.number_of_rooms}\"\n",
    "# Example usage\n",
    "mansion = Mansion(\"123 Luxury St\", 1000000, 10)\n",
    "print(mansion.get_details())  # Output: Mansion at 123 Luxury St, Price: 1000000, Rooms: 10"
   ]
  },
  {
   "cell_type": "code",
   "execution_count": null,
   "metadata": {},
   "outputs": [],
   "source": []
  },
  {
   "cell_type": "code",
   "execution_count": null,
   "id": "312faf0c",
   "metadata": {},
   "outputs": [],
   "source": []
  },
  {
   "cell_type": "code",
   "execution_count": null,
   "id": "7b6f1165",
   "metadata": {},
   "outputs": [],
   "source": []
  },
  {
   "cell_type": "code",
   "execution_count": null,
   "id": "12c51303",
   "metadata": {},
   "outputs": [],
   "source": []
  },
  {
   "cell_type": "code",
   "execution_count": null,
   "id": "33808852",
   "metadata": {},
   "outputs": [],
   "source": []
  },
  {
   "cell_type": "code",
   "execution_count": null,
   "id": "19ac0c57",
   "metadata": {},
   "outputs": [],
   "source": []
  },
  {
   "cell_type": "markdown",
   "id": "45b6a450",
   "metadata": {},
   "source": []
  }
 ],
 "metadata": {
  "kernelspec": {
   "display_name": "base",
   "language": "python",
   "name": "python3"
  },
  "language_info": {
   "codemirror_mode": {
    "name": "ipython",
    "version": 3
   },
   "file_extension": ".py",
   "mimetype": "text/x-python",
   "name": "python",
   "nbconvert_exporter": "python",
   "pygments_lexer": "ipython3",
   "version": "3.8.8"
  }
 },
 "nbformat": 4,
 "nbformat_minor": 5
}
